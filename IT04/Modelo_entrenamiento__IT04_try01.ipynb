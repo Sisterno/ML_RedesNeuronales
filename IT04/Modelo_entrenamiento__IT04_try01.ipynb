{
  "nbformat": 4,
  "nbformat_minor": 0,
  "metadata": {
    "accelerator": "GPU",
    "colab": {
      "name": "Modelo_entrenamiento__IT04_try01.ipynb",
      "provenance": [],
      "toc_visible": true,
      "authorship_tag": "ABX9TyNphh1mEmYVSetxpovkrj5h",
      "include_colab_link": true
    },
    "kernelspec": {
      "display_name": "Python 3",
      "name": "python3"
    },
    "language_info": {
      "name": "python"
    }
  },
  "cells": [
    {
      "cell_type": "markdown",
      "metadata": {
        "id": "view-in-github",
        "colab_type": "text"
      },
      "source": [
        "<a href=\"https://colab.research.google.com/github/Sisterno/Blog-frontend/blob/master/IT04/Modelo_entrenamiento__IT04_try01.ipynb\" target=\"_parent\"><img src=\"https://colab.research.google.com/assets/colab-badge.svg\" alt=\"Open In Colab\"/></a>"
      ]
    },
    {
      "cell_type": "code",
      "metadata": {
        "colab": {
          "base_uri": "https://localhost:8080/"
        },
        "id": "lN4YvgXJ2Nui",
        "outputId": "e13e4ad5-5b8a-4e95-c9c8-1ddb910641e9"
      },
      "source": [
        "import matplotlib.pyplot as plt\n",
        "import numpy as np\n",
        "import os\n",
        "import PIL\n",
        "import tensorflow as tf\n",
        "\n",
        "from tensorflow import keras\n",
        "from tensorflow.keras import layers\n",
        "from tensorflow.keras.models import Sequential\n",
        "from time import time\n",
        "import pathlib\n",
        "\n",
        "path_img_leucocitos = \"/content/drive/MyDrive/ML/04-dataset-preprocesado-fusion\";\n",
        "pathlib_img_leucocitos=pathlib.Path(path_img_leucocitos)\n",
        "\n",
        "from google.colab import drive\n",
        "drive.mount('/content/drive')\n",
        "\n",
        "# batch_size = 32\n",
        "batch_size = 64\n",
        "img_height = 180\n",
        "img_width = 180\n",
        "\n",
        "#-------------------------------------------------------------------------------\n",
        "class TimingCallback(keras.callbacks.Callback):\n",
        "    def on_train_begin(self, logs={}):\n",
        "        self.times = []\n",
        "    def on_epoch_begin(self, batch, logs={}):\n",
        "        self.epoch_time_start = time()\n",
        "    def on_epoch_end(self, batch, logs={}):\n",
        "        self.times.append(time() - self.epoch_time_start)\n",
        "#-------------------------------------------------------------------------------\n",
        "\n",
        "train_ds = tf.keras.preprocessing.image_dataset_from_directory(\n",
        "  path_img_leucocitos,\n",
        "  validation_split=0.2,\n",
        "  subset=\"training\",\n",
        "  seed=123,\n",
        "  image_size=(img_height, img_width),\n",
        "  batch_size=batch_size\n",
        ")\n",
        "val_ds = tf.keras.preprocessing.image_dataset_from_directory(\n",
        "  path_img_leucocitos,\n",
        "  validation_split=0.2,\n",
        "  subset=\"validation\",\n",
        "  seed=123,\n",
        "  image_size=(img_height, img_width),\n",
        "  batch_size=batch_size\n",
        ")\n",
        "\n",
        "AUTOTUNE = tf.data.AUTOTUNE\n",
        "\n",
        "# train_ds = train_ds.cache().prefetch(buffer_size=AUTOTUNE)\n",
        "# val_ds = val_ds.cache().prefetch(buffer_size=AUTOTUNE)\n",
        "# train_ds = train_ds.prefetch(buffer_size=AUTOTUNE)\n",
        "# val_ds = val_ds.prefetch(buffer_size=AUTOTUNE)"
      ],
      "execution_count": 27,
      "outputs": [
        {
          "output_type": "stream",
          "name": "stdout",
          "text": [
            "Drive already mounted at /content/drive; to attempt to forcibly remount, call drive.mount(\"/content/drive\", force_remount=True).\n",
            "Found 59877 files belonging to 5 classes.\n",
            "Using 47902 files for training.\n",
            "Found 59877 files belonging to 5 classes.\n",
            "Using 11975 files for validation.\n"
          ]
        }
      ]
    },
    {
      "cell_type": "markdown",
      "metadata": {
        "id": "T9pflda8hwHY"
      },
      "source": [
        "## Modelo DS002-I04-D001"
      ]
    },
    {
      "cell_type": "code",
      "metadata": {
        "colab": {
          "base_uri": "https://localhost:8080/"
        },
        "id": "u2qlOLhhhxBE",
        "outputId": "519d5fcd-3e63-49af-e531-90503706a88d"
      },
      "source": [
        "from tensorflow.keras import regularizers\n",
        "from time import time\n",
        "#-------------------------------------------------------------------------------\n",
        "cb_I04_D001 = TimingCallback()\n",
        "num_classes = 5\n",
        "\n",
        "model_I04_D001 = Sequential([\n",
        "  # layers.experimental.preprocessing.Rescaling(1./255, input_shape=(img_height, img_width, 3)),\n",
        "  layers.Conv2D(8, 3, padding='same', activation='relu'),\n",
        "  layers.MaxPooling2D(),\n",
        "  layers.Dropout(0.25),\n",
        "  layers.Conv2D(16, 3, padding='same', activation='relu'),\n",
        "  layers.MaxPooling2D(),\n",
        "  layers.Dropout(0.25),\n",
        "  layers.Conv2D(16, 3, padding='same', activation='relu'),\n",
        "  layers.MaxPooling2D(),\n",
        "  layers.Flatten(),\n",
        "  layers.Dropout(0.25),\n",
        "  layers.Dense(32, activation='relu'),\n",
        "  layers.Dense(num_classes)\n",
        "])\n",
        "model_I04_D001.compile(optimizer='adam',\n",
        "              loss=tf.keras.losses.SparseCategoricalCrossentropy(from_logits=True),\n",
        "              metrics=['accuracy'])\n",
        "# model_I04_D001.summary()\n",
        "\n",
        "epochs=20\n",
        "history_I04_D001 = model_I04_D001.fit(\n",
        "  train_ds,\n",
        "  validation_data=val_ds,\n",
        "  epochs=epochs,\n",
        "  callbacks=[cb_I04_D001]\n",
        ")\n",
        "\n",
        "#-------------------------------------------------------------------------------"
      ],
      "execution_count": null,
      "outputs": [
        {
          "name": "stdout",
          "output_type": "stream",
          "text": [
            "Epoch 1/20\n",
            "375/375 [==============================] - 8606s 22s/step - loss: 21.5496 - accuracy: 0.2649 - val_loss: 1.5636 - val_accuracy: 0.3240\n",
            "Epoch 2/20\n",
            "375/375 [==============================] - 108s 283ms/step - loss: 1.5604 - accuracy: 0.3229 - val_loss: 1.5576 - val_accuracy: 0.3240\n",
            "Epoch 3/20\n",
            "375/375 [==============================] - 106s 278ms/step - loss: 1.5563 - accuracy: 0.3263 - val_loss: 1.5575 - val_accuracy: 0.3240\n",
            "Epoch 4/20\n",
            "375/375 [==============================] - 106s 278ms/step - loss: 1.5556 - accuracy: 0.3268 - val_loss: 1.5575 - val_accuracy: 0.3240\n",
            "Epoch 5/20\n",
            "375/375 [==============================] - 106s 279ms/step - loss: 1.5498 - accuracy: 0.3261 - val_loss: 1.5581 - val_accuracy: 0.3240\n",
            "Epoch 6/20\n",
            "375/375 [==============================] - 105s 277ms/step - loss: 1.4835 - accuracy: 0.3234 - val_loss: 1.5455 - val_accuracy: 0.3240\n",
            "Epoch 7/20\n",
            "375/375 [==============================] - 106s 280ms/step - loss: 1.4464 - accuracy: 0.3352 - val_loss: 1.5331 - val_accuracy: 0.3193\n",
            "Epoch 8/20\n",
            "375/375 [==============================] - 107s 282ms/step - loss: 1.4181 - accuracy: 0.3540 - val_loss: 1.4349 - val_accuracy: 0.3589\n",
            "Epoch 9/20\n",
            "375/375 [==============================] - 107s 282ms/step - loss: 1.3002 - accuracy: 0.4454 - val_loss: 1.1804 - val_accuracy: 0.5188\n",
            "Epoch 10/20\n",
            "375/375 [==============================] - 106s 279ms/step - loss: 1.1081 - accuracy: 0.5449 - val_loss: 1.3357 - val_accuracy: 0.5151\n",
            "Epoch 11/20\n",
            "375/375 [==============================] - 105s 276ms/step - loss: 0.9329 - accuracy: 0.6195 - val_loss: 1.2603 - val_accuracy: 0.5365\n",
            "Epoch 12/20\n",
            "375/375 [==============================] - 106s 278ms/step - loss: 0.8126 - accuracy: 0.6726 - val_loss: 1.1810 - val_accuracy: 0.5188\n",
            "Epoch 13/20\n",
            "375/375 [==============================] - 106s 279ms/step - loss: 0.7042 - accuracy: 0.7188 - val_loss: 0.9212 - val_accuracy: 0.6031\n",
            "Epoch 14/20\n",
            "375/375 [==============================] - 107s 282ms/step - loss: 0.5919 - accuracy: 0.7693 - val_loss: 0.9034 - val_accuracy: 0.6347\n",
            "Epoch 15/20\n",
            "375/375 [==============================] - 109s 285ms/step - loss: 0.5157 - accuracy: 0.7999 - val_loss: 0.6875 - val_accuracy: 0.7348\n",
            "Epoch 16/20\n",
            "375/375 [==============================] - 106s 279ms/step - loss: 0.4654 - accuracy: 0.8204 - val_loss: 0.6719 - val_accuracy: 0.7402\n",
            "Epoch 17/20\n",
            "375/375 [==============================] - 105s 275ms/step - loss: 0.4238 - accuracy: 0.8366 - val_loss: 0.5471 - val_accuracy: 0.8025\n",
            "Epoch 18/20\n",
            "375/375 [==============================] - 109s 286ms/step - loss: 0.3892 - accuracy: 0.8515 - val_loss: 0.4762 - val_accuracy: 0.8353\n",
            "Epoch 19/20\n",
            "375/375 [==============================] - 105s 275ms/step - loss: 0.3599 - accuracy: 0.8628 - val_loss: 0.3981 - val_accuracy: 0.8538\n",
            "Epoch 20/20\n",
            "375/375 [==============================] - 107s 281ms/step - loss: 0.3431 - accuracy: 0.8697 - val_loss: 0.3875 - val_accuracy: 0.8610\n"
          ]
        }
      ]
    },
    {
      "cell_type": "code",
      "metadata": {
        "colab": {
          "base_uri": "https://localhost:8080/",
          "height": 638
        },
        "id": "zPY_IYgzhwuV",
        "outputId": "fa0d1930-5f50-45ba-aa44-28bba26eb3e7"
      },
      "source": [
        "#-------------------------------------------------------------------------------\n",
        "print(cb_I04_D001.times)\n",
        "final_time = 0\n",
        "for time in cb_I04_D001.times:\n",
        "  final_time += time\n",
        "print('El entrenamiento se demoro: ' +str(final_time)+' segundos')\n",
        "final_time= final_time/60\n",
        "print('El entrenamiento se demoro: ' +str(final_time)+' minutos')\n",
        "print('accuracy => '+ str(max(history_I04_D001.history['accuracy'])))\n",
        "print('loss => '+ str(min(history_I04_D001.history['loss'])))\n",
        "print('val_accuracy => '+ str(max(history_I04_D001.history['val_accuracy'])))\n",
        "print('val_loss => '+ str(min(history_I04_D001.history['val_loss'])))\n",
        "\n",
        "#-------------------------------------------------------------------------------\n",
        "\n",
        "acc = history_I04_D001.history['accuracy']\n",
        "val_acc = history_I04_D001.history['val_accuracy']\n",
        "\n",
        "loss=history_I04_D001.history['loss']\n",
        "val_loss=history_I04_D001.history['val_loss']\n",
        "\n",
        "epochs_range = range(epochs)\n",
        "\n",
        "plt.figure(figsize=(8, 8))\n",
        "plt.subplot(1, 2, 1)\n",
        "plt.plot(epochs_range, acc, label='Training Accuracy')\n",
        "plt.plot(epochs_range, val_acc, label='Validation Accuracy')\n",
        "plt.legend(loc='lower right')\n",
        "plt.title('Training and Validation Accuracy')\n",
        "\n",
        "plt.subplot(1, 2, 2)\n",
        "plt.plot(epochs_range, loss, label='Training Loss')\n",
        "plt.plot(epochs_range, val_loss, label='Validation Loss')\n",
        "plt.legend(loc='upper right')\n",
        "plt.title('Training and Validation Loss')\n",
        "plt.show()"
      ],
      "execution_count": null,
      "outputs": [
        {
          "name": "stdout",
          "output_type": "stream",
          "text": [
            "[8605.586656093597, 107.85742497444153, 105.75013279914856, 105.84317135810852, 106.07898259162903, 105.36290574073792, 106.48157501220703, 107.20728063583374, 107.34160089492798, 106.14962124824524, 104.96776461601257, 105.6636278629303, 106.36262369155884, 107.34806871414185, 108.62105369567871, 106.14030337333679, 104.53608870506287, 108.72711372375488, 104.74084377288818, 106.92818713188171]\n",
            "El entrenamiento se demoro: 10627.695026636124 segundos\n",
            "El entrenamiento se demoro: 177.1282504439354 minutos\n",
            "accuracy => 0.8697131872177124\n",
            "loss => 0.3430776596069336\n",
            "val_accuracy => 0.8610438704490662\n",
            "val_loss => 0.38746097683906555\n"
          ]
        },
        {
          "data": {
            "image/png": "[encoded data removed]",
            "text/plain": [
              "<Figure size 576x576 with 2 Axes>"
            ]
          },
          "metadata": {},
          "output_type": "display_data"
        }
      ]
    },
    {
      "cell_type": "markdown",
      "metadata": {
        "id": "yjabTig3gqyo"
      },
      "source": [
        "## Modelo DS002-I04-D002"
      ]
    },
    {
      "cell_type": "code",
      "metadata": {
        "colab": {
          "base_uri": "https://localhost:8080/"
        },
        "id": "fNbKGjLsgppE",
        "outputId": "a24a8716-63d5-4b03-86c3-f879f2640a70"
      },
      "source": [
        "from tensorflow.keras import regularizers\n",
        "from time import time\n",
        "#-------------------------------------------------------------------------------\n",
        "cb_I04_D002 = TimingCallback()\n",
        "num_classes = 10\n",
        "\n",
        "model_I04_D002 = Sequential([\n",
        "  # layers.experimental.preprocessing.Rescaling(1./255, input_shape=(img_height, img_width, 3)),\n",
        "  layers.Conv2D (16, 3, padding='same', activation='relu'),\n",
        "  layers.MaxPooling2D(),\n",
        "  layers.Dropout(0.25),\n",
        "  layers.Conv2D(32, 3, padding='same', activation='relu'),\n",
        "  layers.MaxPooling2D(),\n",
        "  layers.Dropout(0.25),\n",
        "  layers.Conv2D(64, 3, padding='same', activation='relu'),\n",
        "  layers.MaxPooling2D(),\n",
        "  layers.Flatten(),\n",
        "  layers.Dropout(0.25),\n",
        "  layers.Dense(128, activation='relu'),\n",
        "  layers.Dense(num_classes)\n",
        "])\n",
        "model_I04_D002.compile(optimizer='adam',\n",
        "              loss=tf.keras.losses.SparseCategoricalCrossentropy(from_logits=True),\n",
        "              metrics=['accuracy'])\n",
        "# model_I04_D002.summary()\n",
        "\n",
        "epochs=20\n",
        "history_I04_D002 = model_I04_D002.fit(\n",
        "  train_ds,\n",
        "  validation_data=val_ds,\n",
        "  epochs=epochs,\n",
        "  callbacks=[cb_I04_D002]\n",
        ")\n",
        "\n",
        "#-------------------------------------------------------------------------------"
      ],
      "execution_count": null,
      "outputs": [
        {
          "name": "stdout",
          "output_type": "stream",
          "text": [
            "Epoch 1/20\n",
            "375/375 [==============================] - 110s 286ms/step - loss: 43.4041 - accuracy: 0.3921 - val_loss: 1.3222 - val_accuracy: 0.4357\n",
            "Epoch 2/20\n",
            "375/375 [==============================] - 108s 285ms/step - loss: 1.0856 - accuracy: 0.5593 - val_loss: 1.1808 - val_accuracy: 0.5111\n",
            "Epoch 3/20\n",
            "375/375 [==============================] - 107s 281ms/step - loss: 0.9531 - accuracy: 0.6078 - val_loss: 1.0694 - val_accuracy: 0.5691\n",
            "Epoch 4/20\n",
            "375/375 [==============================] - 107s 282ms/step - loss: 0.8381 - accuracy: 0.6552 - val_loss: 0.7857 - val_accuracy: 0.6927\n",
            "Epoch 5/20\n",
            "375/375 [==============================] - 109s 285ms/step - loss: 0.6981 - accuracy: 0.7161 - val_loss: 0.7579 - val_accuracy: 0.7169\n",
            "Epoch 6/20\n",
            "375/375 [==============================] - 111s 292ms/step - loss: 0.6103 - accuracy: 0.7566 - val_loss: 0.5993 - val_accuracy: 0.7799\n",
            "Epoch 7/20\n",
            "375/375 [==============================] - 109s 287ms/step - loss: 0.5117 - accuracy: 0.7977 - val_loss: 0.5651 - val_accuracy: 0.7861\n",
            "Epoch 8/20\n",
            "375/375 [==============================] - 110s 288ms/step - loss: 0.4448 - accuracy: 0.8233 - val_loss: 0.4838 - val_accuracy: 0.8234\n",
            "Epoch 9/20\n",
            "375/375 [==============================] - 107s 281ms/step - loss: 0.3949 - accuracy: 0.8444 - val_loss: 0.4581 - val_accuracy: 0.8311\n",
            "Epoch 10/20\n",
            "375/375 [==============================] - 110s 289ms/step - loss: 0.3616 - accuracy: 0.8565 - val_loss: 0.4394 - val_accuracy: 0.8417\n",
            "Epoch 11/20\n",
            "375/375 [==============================] - 111s 293ms/step - loss: 0.3273 - accuracy: 0.8712 - val_loss: 0.3698 - val_accuracy: 0.8628\n",
            "Epoch 12/20\n",
            "375/375 [==============================] - 108s 284ms/step - loss: 0.3003 - accuracy: 0.8820 - val_loss: 0.3497 - val_accuracy: 0.8679\n",
            "Epoch 13/20\n",
            "375/375 [==============================] - 108s 284ms/step - loss: 0.2754 - accuracy: 0.8921 - val_loss: 0.2980 - val_accuracy: 0.8884\n",
            "Epoch 14/20\n",
            "375/375 [==============================] - 112s 294ms/step - loss: 0.2579 - accuracy: 0.9025 - val_loss: 0.3283 - val_accuracy: 0.8716\n",
            "Epoch 15/20\n",
            "375/375 [==============================] - 108s 283ms/step - loss: 0.2357 - accuracy: 0.9088 - val_loss: 0.2686 - val_accuracy: 0.8968\n",
            "Epoch 16/20\n",
            "375/375 [==============================] - 113s 297ms/step - loss: 0.2160 - accuracy: 0.9162 - val_loss: 0.2603 - val_accuracy: 0.9034\n",
            "Epoch 17/20\n",
            "375/375 [==============================] - 108s 283ms/step - loss: 0.1969 - accuracy: 0.9264 - val_loss: 0.2823 - val_accuracy: 0.9049\n",
            "Epoch 18/20\n",
            "375/375 [==============================] - 111s 293ms/step - loss: 0.1782 - accuracy: 0.9329 - val_loss: 0.2233 - val_accuracy: 0.9187\n",
            "Epoch 19/20\n",
            "375/375 [==============================] - 112s 294ms/step - loss: 0.1699 - accuracy: 0.9375 - val_loss: 0.2012 - val_accuracy: 0.9263\n",
            "Epoch 20/20\n",
            "375/375 [==============================] - 117s 308ms/step - loss: 0.1548 - accuracy: 0.9421 - val_loss: 0.2133 - val_accuracy: 0.9253\n"
          ]
        }
      ]
    },
    {
      "cell_type": "code",
      "metadata": {
        "colab": {
          "base_uri": "https://localhost:8080/",
          "height": 638
        },
        "id": "X2BDjKWDg1lI",
        "outputId": "f2cf023e-1a8c-484e-acb4-1f5aed792fed"
      },
      "source": [
        "#-------------------------------------------------------------------------------\n",
        "\n",
        "print(cb_I04_D002.times)\n",
        "final_time = 0\n",
        "for time in cb_I04_D002.times:\n",
        "  final_time += time\n",
        "print('El entrenamiento se demoro: ' +str(final_time)+' segundos')\n",
        "final_time= final_time/60\n",
        "print('El entrenamiento se demoro: ' +str(final_time)+' minutos')\n",
        "print('accuracy => '+ str(max(history_I04_D002.history['accuracy'])))\n",
        "print('loss => '+ str(min(history_I04_D002.history['loss'])))\n",
        "print('val_accuracy => '+ str(max(history_I04_D002.history['val_accuracy'])))\n",
        "print('val_loss => '+ str(min(history_I04_D002.history['val_loss'])))\n",
        "\n",
        "#-------------------------------------------------------------------------------\n",
        "\n",
        "acc = history_I04_D002.history['accuracy']\n",
        "val_acc = history_I04_D002.history['val_accuracy']\n",
        "\n",
        "loss=history_I04_D002.history['loss']\n",
        "val_loss=history_I04_D002.history['val_loss']\n",
        "\n",
        "epochs_range = range(epochs)\n",
        "\n",
        "plt.figure(figsize=(8, 8))\n",
        "plt.subplot(1, 2, 1)\n",
        "plt.plot(epochs_range, acc, label='Training Accuracy')\n",
        "plt.plot(epochs_range, val_acc, label='Validation Accuracy')\n",
        "plt.legend(loc='lower right')\n",
        "plt.title('Training and Validation Accuracy')\n",
        "\n",
        "plt.subplot(1, 2, 2)\n",
        "plt.plot(epochs_range, loss, label='Training Loss')\n",
        "plt.plot(epochs_range, val_loss, label='Validation Loss')\n",
        "plt.legend(loc='upper right')\n",
        "plt.title('Training and Validation Loss')\n",
        "plt.show()"
      ],
      "execution_count": null,
      "outputs": [
        {
          "name": "stdout",
          "output_type": "stream",
          "text": [
            "[110.17833232879639, 108.33589267730713, 106.8537654876709, 107.1444411277771, 108.5108687877655, 111.2113881111145, 109.20001244544983, 109.71485781669617, 106.84813380241394, 109.99188423156738, 111.31742215156555, 107.92097067832947, 107.9483094215393, 111.80941200256348, 107.55023288726807, 112.90763926506042, 107.63189840316772, 111.36736965179443, 111.80519795417786, 117.00651574134827]\n",
            "El entrenamiento se demoro: 2195.2545449733734 segundos\n",
            "El entrenamiento se demoro: 36.58757574955622 minutos\n",
            "accuracy => 0.9421318769454956\n",
            "loss => 0.1547779142856598\n",
            "val_accuracy => 0.9262630343437195\n",
            "val_loss => 0.20120182633399963\n"
          ]
        },
        {
          "data": {
            "image/png": "[encoded data removed]",
            "text/plain": [
              "<Figure size 576x576 with 2 Axes>"
            ]
          },
          "metadata": {},
          "output_type": "display_data"
        }
      ]
    },
    {
      "cell_type": "markdown",
      "metadata": {
        "id": "FQiwwWsCh74Y"
      },
      "source": [
        "## Modelo DS002-I04-D003"
      ]
    },
    {
      "cell_type": "code",
      "metadata": {
        "colab": {
          "background_save": true,
          "base_uri": "https://localhost:8080/"
        },
        "id": "8XyvCOoIgSLk",
        "outputId": "c980014f-5566-40bc-8316-1c2dca8e0017"
      },
      "source": [
        "from tensorflow.keras import regularizers\n",
        "from time import time\n",
        "#-------------------------------------------------------------------------------\n",
        "cb_I04_D003 = TimingCallback()\n",
        "num_classes = 5\n",
        "epochs=20\n",
        "\n",
        "model_I04_D003 = Sequential([\n",
        "  layers.Conv2D(8, 3, padding='same', activation='relu'),\n",
        "  layers.MaxPooling2D(),\n",
        "  layers.Dropout(0.25),\n",
        "  layers.Conv2D(16, 3, padding='same', activation='relu'),\n",
        "  layers.MaxPooling2D(),\n",
        "  layers.Flatten(),\n",
        "  layers.Dropout(0.25),\n",
        "  layers.Dense(32, activation='relu'),\n",
        "  layers.Dense(num_classes)\n",
        "])\n",
        "model_I04_D003.compile(optimizer='adam',\n",
        "              loss=tf.keras.losses.SparseCategoricalCrossentropy(from_logits=True),\n",
        "              metrics=['accuracy'])\n",
        "# model_I04_D003.summary()\n",
        "\n",
        "\n",
        "history_I04_D003 = model_I04_D003.fit(\n",
        "  train_ds,\n",
        "  validation_data=val_ds,\n",
        "  epochs=epochs,\n",
        "  callbacks=[cb_I04_D003]\n",
        ")\n",
        "\n",
        "#-------------------------------------------------------------------------------"
      ],
      "execution_count": null,
      "outputs": [
        {
          "name": "stdout",
          "output_type": "stream",
          "text": [
            "Epoch 1/20\n",
            "749/749 [==============================] - 112s 148ms/step - loss: 24.5290 - accuracy: 0.3360 - val_loss: 1.4727 - val_accuracy: 0.3723\n",
            "Epoch 2/20\n",
            "749/749 [==============================] - 112s 149ms/step - loss: 1.2602 - accuracy: 0.4510 - val_loss: 1.2627 - val_accuracy: 0.5039\n",
            "Epoch 3/20\n",
            "749/749 [==============================] - 113s 150ms/step - loss: 1.0302 - accuracy: 0.5811 - val_loss: 1.0496 - val_accuracy: 0.5885\n",
            "Epoch 4/20\n",
            "749/749 [==============================] - 112s 149ms/step - loss: 0.8041 - accuracy: 0.6682 - val_loss: 0.7685 - val_accuracy: 0.6821\n",
            "Epoch 5/20\n",
            "749/749 [==============================] - 111s 148ms/step - loss: 0.7406 - accuracy: 0.6953 - val_loss: 0.7607 - val_accuracy: 0.6932\n",
            "Epoch 6/20\n",
            "749/749 [==============================] - 111s 147ms/step - loss: 0.6716 - accuracy: 0.7191 - val_loss: 0.7130 - val_accuracy: 0.7041\n",
            "Epoch 7/20\n",
            "749/749 [==============================] - 111s 147ms/step - loss: 0.6062 - accuracy: 0.7613 - val_loss: 0.6689 - val_accuracy: 0.7599\n",
            "Epoch 8/20\n",
            "749/749 [==============================] - 111s 148ms/step - loss: 0.5253 - accuracy: 0.8067 - val_loss: 0.7285 - val_accuracy: 0.7289\n",
            "Epoch 9/20\n",
            "749/749 [==============================] - 111s 148ms/step - loss: 0.4820 - accuracy: 0.8253 - val_loss: 0.7144 - val_accuracy: 0.7544\n",
            "Epoch 10/20\n",
            "749/749 [==============================] - 111s 147ms/step - loss: 0.4427 - accuracy: 0.8428 - val_loss: 0.5137 - val_accuracy: 0.8182\n",
            "Epoch 11/20\n",
            "749/749 [==============================] - 112s 149ms/step - loss: 0.4056 - accuracy: 0.8569 - val_loss: 0.4986 - val_accuracy: 0.8256\n",
            "Epoch 12/20\n",
            "749/749 [==============================] - 112s 148ms/step - loss: 0.3811 - accuracy: 0.8645 - val_loss: 0.4416 - val_accuracy: 0.8542\n",
            "Epoch 13/20\n",
            "749/749 [==============================] - 111s 148ms/step - loss: 0.3619 - accuracy: 0.8765 - val_loss: 0.4179 - val_accuracy: 0.8646\n",
            "Epoch 14/20\n",
            "749/749 [==============================] - 112s 149ms/step - loss: 0.3339 - accuracy: 0.8839 - val_loss: 0.4980 - val_accuracy: 0.8313\n",
            "Epoch 15/20\n",
            "749/749 [==============================] - 112s 148ms/step - loss: 0.3177 - accuracy: 0.8910 - val_loss: 0.4645 - val_accuracy: 0.8465\n",
            "Epoch 16/20\n",
            "749/749 [==============================] - 112s 148ms/step - loss: 0.2896 - accuracy: 0.9010 - val_loss: 0.3988 - val_accuracy: 0.8705\n",
            "Epoch 17/20\n",
            "749/749 [==============================] - 111s 147ms/step - loss: 0.2772 - accuracy: 0.9054 - val_loss: 0.4221 - val_accuracy: 0.8585\n",
            "Epoch 18/20\n",
            "749/749 [==============================] - 111s 147ms/step - loss: 0.2684 - accuracy: 0.9092 - val_loss: 0.4182 - val_accuracy: 0.8657\n",
            "Epoch 19/20\n",
            "749/749 [==============================] - 111s 147ms/step - loss: 0.2559 - accuracy: 0.9132 - val_loss: 0.3371 - val_accuracy: 0.8962\n",
            "Epoch 20/20\n",
            "749/749 [==============================] - 111s 147ms/step - loss: 0.2377 - accuracy: 0.9203 - val_loss: 0.3789 - val_accuracy: 0.8745\n"
          ]
        }
      ]
    },
    {
      "cell_type": "code",
      "metadata": {
        "cellView": "code",
        "colab": {
          "background_save": true
        },
        "id": "Pj6xstf_vDjG",
        "outputId": "fea2a52c-f5db-4d67-91c0-9ee779fd24f8"
      },
      "source": [
        "#-------------------------------------------------------------------------------\n",
        "\n",
        "print(cb_I04_D003.times)\n",
        "final_time = 0\n",
        "for time in cb_I04_D003.times:\n",
        "  final_time += time\n",
        "print('El entrenamiento se demoro: ' +str(final_time)+' segundos')\n",
        "final_time= final_time/60\n",
        "print('El entrenamiento se demoro: ' +str(final_time)+' minutos')\n",
        "print('accuracy => '+ str(max(history_I04_D003.history['accuracy'])))\n",
        "print('loss => '+ str(min(history_I04_D003.history['loss'])))\n",
        "print('val_accuracy => '+ str(max(history_I04_D003.history['val_accuracy'])))\n",
        "print('val_loss => '+ str(min(history_I04_D003.history['val_loss'])))\n",
        "\n",
        "#-------------------------------------------------------------------------------\n",
        "\n",
        "acc = history_I04_D003.history['accuracy']\n",
        "val_acc = history_I04_D003.history['val_accuracy']\n",
        "\n",
        "loss=history_I04_D003.history['loss']\n",
        "val_loss=history_I04_D003.history['val_loss']\n",
        "\n",
        "epochs_range = range(epochs)\n",
        "\n",
        "plt.figure(figsize=(8, 8))\n",
        "plt.subplot(1, 2, 1)\n",
        "plt.plot(epochs_range, acc, label='Training Accuracy')\n",
        "plt.plot(epochs_range, val_acc, label='Validation Accuracy')\n",
        "plt.legend(loc='lower right')\n",
        "plt.title('Training and Validation Accuracy')\n",
        "\n",
        "plt.subplot(1, 2, 2)\n",
        "plt.plot(epochs_range, loss, label='Training Loss')\n",
        "plt.plot(epochs_range, val_loss, label='Validation Loss')\n",
        "plt.legend(loc='upper right')\n",
        "plt.title('Training and Validation Loss')\n",
        "plt.show()"
      ],
      "execution_count": null,
      "outputs": [
        {
          "name": "stdout",
          "output_type": "stream",
          "text": [
            "[112.37361931800842, 112.47367811203003, 112.96587753295898, 112.12272024154663, 111.46414995193481, 111.00726580619812, 110.81419014930725, 111.39912438392639, 111.4483573436737, 111.07213425636292, 112.21783089637756, 112.00874948501587, 111.43912434577942, 112.29983043670654, 111.75353479385376, 111.8654317855835, 111.26932644844055, 110.72789311408997, 111.3000111579895, 110.60515308380127]\n",
            "El entrenamiento se demoro: 2232.628002643585 segundos\n",
            "El entrenamiento se demoro: 37.21046671072642 minutos\n",
            "accuracy => 0.9202747344970703\n",
            "loss => 0.23766906559467316\n",
            "val_accuracy => 0.89620041847229\n",
            "val_loss => 0.3371424674987793\n"
          ]
        },
        {
          "data": {
            "image/png": "[encoded data removed]",
            "text/plain": [
              "<Figure size 576x576 with 2 Axes>"
            ]
          },
          "metadata": {},
          "output_type": "display_data"
        }
      ]
    },
    {
      "cell_type": "markdown",
      "metadata": {
        "id": "c0hMYRossaBk"
      },
      "source": [
        "## Modelo DS002-I04-D004"
      ]
    },
    {
      "cell_type": "code",
      "metadata": {
        "id": "DNQVnij_saBp",
        "colab": {
          "base_uri": "https://localhost:8080/"
        },
        "outputId": "24d76029-07e8-4fc1-d6fc-6cfb1022adf4"
      },
      "source": [
        "from tensorflow.keras import regularizers\n",
        "from time import time\n",
        "#-------------------------------------------------------------------------------\n",
        "cb_I04_D004 = TimingCallback()\n",
        "num_classes = 5\n",
        "\n",
        "model_I04_D004 = Sequential([\n",
        "  # layers.experimental.preprocessing.Rescaling(1./255, input_shape=(img_height, img_width, 3)),\n",
        "  layers.Conv2D(8, 3, padding='same', activation='relu'),\n",
        "  layers.MaxPooling2D(),\n",
        "  layers.Dropout(0.5),\n",
        "  layers.Conv2D(16, 3, padding='same', activation='relu'),\n",
        "  layers.MaxPooling2D(),\n",
        "  layers.Dropout(0.5),\n",
        "  layers.Conv2D(16, 3, padding='same', activation='relu'),\n",
        "  layers.MaxPooling2D(),\n",
        "  layers.Flatten(),\n",
        "  layers.Dropout(0.5),\n",
        "  layers.Dense(32, activation='relu'),\n",
        "  layers.Dense(num_classes)\n",
        "])\n",
        "model_I04_D004.compile(optimizer='adam',\n",
        "              loss=tf.keras.losses.SparseCategoricalCrossentropy(from_logits=True),\n",
        "              metrics=['accuracy'])\n",
        "# model_I04_D004.summary()\n",
        "\n",
        "epochs=20\n",
        "history_I04_D004 = model_I04_D004.fit(\n",
        "  train_ds,\n",
        "  validation_data=val_ds,\n",
        "  epochs=epochs,\n",
        "  callbacks=[cb_I04_D004]\n",
        ")\n",
        "\n",
        "#-------------------------------------------------------------------------------"
      ],
      "execution_count": 20,
      "outputs": [
        {
          "output_type": "stream",
          "name": "stdout",
          "text": [
            "Epoch 1/20\n",
            "94/94 [==============================] - 113s 1s/step - loss: 25.0747 - accuracy: 0.2374 - val_loss: 1.6023 - val_accuracy: 0.3240\n",
            "Epoch 2/20\n",
            "94/94 [==============================] - 108s 1s/step - loss: 1.5953 - accuracy: 0.3270 - val_loss: 1.5891 - val_accuracy: 0.3240\n",
            "Epoch 3/20\n",
            "94/94 [==============================] - 107s 1s/step - loss: 1.5830 - accuracy: 0.3270 - val_loss: 1.5784 - val_accuracy: 0.3240\n",
            "Epoch 4/20\n",
            "94/94 [==============================] - 106s 1s/step - loss: 1.5733 - accuracy: 0.3270 - val_loss: 1.5704 - val_accuracy: 0.3240\n"
          ]
        },
        {
          "output_type": "stream",
          "name": "stderr",
          "text": [
            "Exception ignored in: <function IteratorResourceDeleter.__del__ at 0x7f97cdd2c9e0>\n",
            "Traceback (most recent call last):\n",
            "  File \"/usr/local/lib/python3.7/dist-packages/tensorflow/python/data/ops/iterator_ops.py\", line 546, in __del__\n",
            "    handle=self._handle, deleter=self._deleter)\n",
            "  File \"/usr/local/lib/python3.7/dist-packages/tensorflow/python/ops/gen_dataset_ops.py\", line 1264, in delete_iterator\n",
            "    _ctx, \"DeleteIterator\", name, handle, deleter)\n",
            "KeyboardInterrupt: \n"
          ]
        },
        {
          "output_type": "stream",
          "name": "stdout",
          "text": [
            "Epoch 5/20\n",
            "94/94 [==============================] - 104s 1s/step - loss: 1.5665 - accuracy: 0.3270 - val_loss: 1.5650 - val_accuracy: 0.3240\n",
            "Epoch 6/20\n",
            "94/94 [==============================] - 104s 1s/step - loss: 1.5619 - accuracy: 0.3270 - val_loss: 1.5616 - val_accuracy: 0.3240\n",
            "Epoch 7/20\n",
            "94/94 [==============================] - 105s 1s/step - loss: 1.5590 - accuracy: 0.3270 - val_loss: 1.5595 - val_accuracy: 0.3240\n",
            "Epoch 8/20\n",
            "94/94 [==============================] - 104s 1s/step - loss: 1.5573 - accuracy: 0.3270 - val_loss: 1.5584 - val_accuracy: 0.3240\n",
            "Epoch 9/20\n",
            "94/94 [==============================] - 105s 1s/step - loss: 1.5563 - accuracy: 0.3270 - val_loss: 1.5579 - val_accuracy: 0.3240\n",
            "Epoch 10/20\n",
            "94/94 [==============================] - 104s 1s/step - loss: 1.5558 - accuracy: 0.3270 - val_loss: 1.5576 - val_accuracy: 0.3240\n",
            "Epoch 11/20\n",
            "94/94 [==============================] - 104s 1s/step - loss: 1.5556 - accuracy: 0.3270 - val_loss: 1.5575 - val_accuracy: 0.3240\n",
            "Epoch 12/20\n",
            "94/94 [==============================] - 105s 1s/step - loss: 1.5555 - accuracy: 0.3270 - val_loss: 1.5575 - val_accuracy: 0.3240\n",
            "Epoch 13/20\n",
            "94/94 [==============================] - 105s 1s/step - loss: 1.5554 - accuracy: 0.3270 - val_loss: 1.5575 - val_accuracy: 0.3240\n",
            "Epoch 14/20\n",
            "94/94 [==============================] - 105s 1s/step - loss: 1.5554 - accuracy: 0.3270 - val_loss: 1.5575 - val_accuracy: 0.3240\n",
            "Epoch 15/20\n",
            "94/94 [==============================] - 104s 1s/step - loss: 1.5554 - accuracy: 0.3270 - val_loss: 1.5575 - val_accuracy: 0.3240\n",
            "Epoch 16/20\n",
            "94/94 [==============================] - 104s 1s/step - loss: 1.5554 - accuracy: 0.3270 - val_loss: 1.5575 - val_accuracy: 0.3240\n",
            "Epoch 17/20\n",
            "94/94 [==============================] - 104s 1s/step - loss: 1.5554 - accuracy: 0.3270 - val_loss: 1.5575 - val_accuracy: 0.3240\n",
            "Epoch 18/20\n",
            "94/94 [==============================] - 104s 1s/step - loss: 1.5554 - accuracy: 0.3270 - val_loss: 1.5575 - val_accuracy: 0.3240\n",
            "Epoch 19/20\n",
            "94/94 [==============================] - 104s 1s/step - loss: 1.5554 - accuracy: 0.3270 - val_loss: 1.5575 - val_accuracy: 0.3240\n",
            "Epoch 20/20\n",
            "94/94 [==============================] - 104s 1s/step - loss: 1.5554 - accuracy: 0.3270 - val_loss: 1.5575 - val_accuracy: 0.3240\n"
          ]
        }
      ]
    },
    {
      "cell_type": "code",
      "metadata": {
        "colab": {
          "base_uri": "https://localhost:8080/",
          "height": 638
        },
        "id": "ZzRG0p8dsaBq",
        "outputId": "66f3e5cf-9a51-4ac6-a7d6-52d5acee53ad"
      },
      "source": [
        "#-------------------------------------------------------------------------------\n",
        "print(cb_I04_D004.times)\n",
        "final_time = 0\n",
        "for time in cb_I04_D004.times:\n",
        "  final_time += time\n",
        "print('El entrenamiento se demoro: ' +str(final_time)+' segundos')\n",
        "final_time= final_time/60\n",
        "print('El entrenamiento se demoro: ' +str(final_time)+' minutos')\n",
        "print('accuracy => '+ str(max(history_I04_D004.history['accuracy'])))\n",
        "print('loss => '+ str(min(history_I04_D004.history['loss'])))\n",
        "print('val_accuracy => '+ str(max(history_I04_D004.history['val_accuracy'])))\n",
        "print('val_loss => '+ str(min(history_I04_D004.history['val_loss'])))\n",
        "\n",
        "#-------------------------------------------------------------------------------\n",
        "\n",
        "acc = history_I04_D004.history['accuracy']\n",
        "val_acc = history_I04_D004.history['val_accuracy']\n",
        "\n",
        "loss=history_I04_D004.history['loss']\n",
        "val_loss=history_I04_D004.history['val_loss']\n",
        "\n",
        "epochs_range = range(epochs)\n",
        "\n",
        "plt.figure(figsize=(8, 8))\n",
        "plt.subplot(1, 2, 1)\n",
        "plt.plot(epochs_range, acc, label='Training Accuracy')\n",
        "plt.plot(epochs_range, val_acc, label='Validation Accuracy')\n",
        "plt.legend(loc='lower right')\n",
        "plt.title('Training and Validation Accuracy')\n",
        "\n",
        "plt.subplot(1, 2, 2)\n",
        "plt.plot(epochs_range, loss, label='Training Loss')\n",
        "plt.plot(epochs_range, val_loss, label='Validation Loss')\n",
        "plt.legend(loc='upper right')\n",
        "plt.title('Training and Validation Loss')\n",
        "plt.show()"
      ],
      "execution_count": 21,
      "outputs": [
        {
          "output_type": "stream",
          "name": "stdout",
          "text": [
            "[112.99677276611328, 108.13477849960327, 106.60301160812378, 105.5856704711914, 104.32997822761536, 104.31804990768433, 104.67757534980774, 104.46564412117004, 104.69796395301819, 104.26843547821045, 104.09277558326721, 104.50483465194702, 104.85580277442932, 104.67669701576233, 104.30400466918945, 103.90752792358398, 104.45849275588989, 103.90919923782349, 104.49060249328613, 104.27072930335999]\n",
            "El entrenamiento se demoro: 2103.5485467910767 segundos\n",
            "El entrenamiento se demoro: 35.059142446517946 minutos\n",
            "accuracy => 0.3270009458065033\n",
            "loss => 1.5553724765777588\n",
            "val_accuracy => 0.32400834560394287\n",
            "val_loss => 1.5574722290039062\n"
          ]
        },
        {
          "output_type": "display_data",
          "data": {
            "image/png": "[encoded data removed]",
            "text/plain": [
              "<Figure size 576x576 with 2 Axes>"
            ]
          },
          "metadata": {
            "needs_background": "light"
          }
        }
      ]
    },
    {
      "cell_type": "markdown",
      "metadata": {
        "id": "4SvCst45saBr"
      },
      "source": [
        "## Modelo DS002-I04-D005"
      ]
    },
    {
      "cell_type": "code",
      "metadata": {
        "colab": {
          "base_uri": "https://localhost:8080/"
        },
        "id": "Yx93QAWWsaBs",
        "outputId": "d12f1792-26d4-454c-8f8a-4504fb51bf68"
      },
      "source": [
        "from tensorflow.keras import regularizers\n",
        "from time import time\n",
        "#-------------------------------------------------------------------------------\n",
        "cb_I04_D005 = TimingCallback()\n",
        "num_classes = 10\n",
        "\n",
        "model_I04_D005 = Sequential([\n",
        "  # layers.experimental.preprocessing.Rescaling(1./255, input_shape=(img_height, img_width, 3)),\n",
        "  layers.Conv2D (16, 3, padding='same', activation='relu'),\n",
        "  layers.MaxPooling2D(),\n",
        "  layers.Dropout(0.5),\n",
        "  layers.Conv2D(32, 3, padding='same', activation='relu'),\n",
        "  layers.MaxPooling2D(),\n",
        "  layers.Dropout(0.5),\n",
        "  layers.Conv2D(64, 3, padding='same', activation='relu'),\n",
        "  layers.MaxPooling2D(),\n",
        "  layers.Flatten(),\n",
        "  layers.Dropout(0.5),\n",
        "  layers.Dense(128, activation='relu'),\n",
        "  layers.Dense(num_classes)\n",
        "])\n",
        "model_I04_D005.compile(optimizer='adam',\n",
        "              loss=tf.keras.losses.SparseCategoricalCrossentropy(from_logits=True),\n",
        "              metrics=['accuracy'])\n",
        "# model_I04_D005.summary()\n",
        "\n",
        "epochs=20\n",
        "history_I04_D005 = model_I04_D005.fit(\n",
        "  train_ds,\n",
        "  validation_data=val_ds,\n",
        "  epochs=epochs,\n",
        "  callbacks=[cb_I04_D005]\n",
        ")\n",
        "\n",
        "#-------------------------------------------------------------------------------"
      ],
      "execution_count": 22,
      "outputs": [
        {
          "output_type": "stream",
          "name": "stdout",
          "text": [
            "Epoch 1/20\n",
            "94/94 [==============================] - 114s 1s/step - loss: 285.4664 - accuracy: 0.2449 - val_loss: 2.2212 - val_accuracy: 0.1773\n",
            "Epoch 2/20\n",
            "94/94 [==============================] - 107s 1s/step - loss: 1.8012 - accuracy: 0.2712 - val_loss: 2.1101 - val_accuracy: 0.1486\n",
            "Epoch 3/20\n",
            "94/94 [==============================] - 107s 1s/step - loss: 1.6958 - accuracy: 0.2802 - val_loss: 1.8955 - val_accuracy: 0.1486\n",
            "Epoch 4/20\n",
            "94/94 [==============================] - 107s 1s/step - loss: 1.6271 - accuracy: 0.2883 - val_loss: 1.6659 - val_accuracy: 0.1836\n",
            "Epoch 5/20\n",
            "94/94 [==============================] - 107s 1s/step - loss: 1.5805 - accuracy: 0.3010 - val_loss: 1.4411 - val_accuracy: 0.4551\n",
            "Epoch 6/20\n",
            "94/94 [==============================] - 107s 1s/step - loss: 1.5201 - accuracy: 0.3291 - val_loss: 1.4451 - val_accuracy: 0.2907\n",
            "Epoch 7/20\n",
            "94/94 [==============================] - 107s 1s/step - loss: 1.4778 - accuracy: 0.3556 - val_loss: 1.5630 - val_accuracy: 0.2558\n",
            "Epoch 8/20\n",
            "94/94 [==============================] - 107s 1s/step - loss: 1.4375 - accuracy: 0.3844 - val_loss: 1.6675 - val_accuracy: 0.2548\n",
            "Epoch 9/20\n",
            "94/94 [==============================] - 107s 1s/step - loss: 1.4158 - accuracy: 0.3965 - val_loss: 1.7959 - val_accuracy: 0.2700\n",
            "Epoch 10/20\n",
            "94/94 [==============================] - 107s 1s/step - loss: 1.3898 - accuracy: 0.4137 - val_loss: 1.7620 - val_accuracy: 0.2382\n",
            "Epoch 11/20\n",
            "94/94 [==============================] - 107s 1s/step - loss: 1.3703 - accuracy: 0.4234 - val_loss: 1.8665 - val_accuracy: 0.2254\n",
            "Epoch 12/20\n",
            "94/94 [==============================] - 107s 1s/step - loss: 1.3493 - accuracy: 0.4358 - val_loss: 1.7813 - val_accuracy: 0.2504\n",
            "Epoch 13/20\n",
            "94/94 [==============================] - 107s 1s/step - loss: 1.3317 - accuracy: 0.4422 - val_loss: 1.5821 - val_accuracy: 0.3035\n",
            "Epoch 14/20\n",
            "94/94 [==============================] - 106s 1s/step - loss: 1.3114 - accuracy: 0.4558 - val_loss: 1.4911 - val_accuracy: 0.3903\n",
            "Epoch 15/20\n",
            "94/94 [==============================] - 107s 1s/step - loss: 1.2892 - accuracy: 0.4662 - val_loss: 1.4396 - val_accuracy: 0.4079\n",
            "Epoch 16/20\n",
            "94/94 [==============================] - 106s 1s/step - loss: 1.2690 - accuracy: 0.4766 - val_loss: 1.4356 - val_accuracy: 0.4058\n",
            "Epoch 17/20\n",
            "94/94 [==============================] - 107s 1s/step - loss: 1.2471 - accuracy: 0.4884 - val_loss: 1.3744 - val_accuracy: 0.4449\n",
            "Epoch 18/20\n",
            "94/94 [==============================] - 107s 1s/step - loss: 1.2233 - accuracy: 0.4978 - val_loss: 1.2793 - val_accuracy: 0.4747\n",
            "Epoch 19/20\n",
            "94/94 [==============================] - 107s 1s/step - loss: 1.1962 - accuracy: 0.5120 - val_loss: 1.3294 - val_accuracy: 0.4508\n",
            "Epoch 20/20\n",
            "94/94 [==============================] - 107s 1s/step - loss: 1.1382 - accuracy: 0.5361 - val_loss: 1.3147 - val_accuracy: 0.4550\n"
          ]
        }
      ]
    },
    {
      "cell_type": "code",
      "metadata": {
        "id": "617A7rTUsaBs",
        "colab": {
          "base_uri": "https://localhost:8080/",
          "height": 0
        },
        "outputId": "d680eaa9-e906-4dcf-9db2-fd30f95d4b49"
      },
      "source": [
        "#-------------------------------------------------------------------------------\n",
        "\n",
        "print(cb_I04_D005.times)\n",
        "final_time = 0\n",
        "for time in cb_I04_D005.times:\n",
        "  final_time += time\n",
        "print('El entrenamiento se demoro: ' +str(final_time)+' segundos')\n",
        "final_time= final_time/60\n",
        "print('El entrenamiento se demoro: ' +str(final_time)+' minutos')\n",
        "print('accuracy => '+ str(max(history_I04_D005.history['accuracy'])))\n",
        "print('loss => '+ str(min(history_I04_D005.history['loss'])))\n",
        "print('val_accuracy => '+ str(max(history_I04_D005.history['val_accuracy'])))\n",
        "print('val_loss => '+ str(min(history_I04_D005.history['val_loss'])))\n",
        "\n",
        "#-------------------------------------------------------------------------------\n",
        "\n",
        "acc = history_I04_D005.history['accuracy']\n",
        "val_acc = history_I04_D005.history['val_accuracy']\n",
        "\n",
        "loss=history_I04_D005.history['loss']\n",
        "val_loss=history_I04_D005.history['val_loss']\n",
        "\n",
        "epochs_range = range(epochs)\n",
        "\n",
        "plt.figure(figsize=(8, 8))\n",
        "plt.subplot(1, 2, 1)\n",
        "plt.plot(epochs_range, acc, label='Training Accuracy')\n",
        "plt.plot(epochs_range, val_acc, label='Validation Accuracy')\n",
        "plt.legend(loc='lower right')\n",
        "plt.title('Training and Validation Accuracy')\n",
        "\n",
        "plt.subplot(1, 2, 2)\n",
        "plt.plot(epochs_range, loss, label='Training Loss')\n",
        "plt.plot(epochs_range, val_loss, label='Validation Loss')\n",
        "plt.legend(loc='upper right')\n",
        "plt.title('Training and Validation Loss')\n",
        "plt.show()"
      ],
      "execution_count": 23,
      "outputs": [
        {
          "output_type": "stream",
          "name": "stdout",
          "text": [
            "[113.99845027923584, 107.34848690032959, 107.39892840385437, 107.02201700210571, 106.85146570205688, 107.04030990600586, 107.24992084503174, 106.94325828552246, 107.0797700881958, 106.83580780029297, 106.8692672252655, 106.67022347450256, 106.99145078659058, 106.49984979629517, 107.0455915927887, 106.25889563560486, 106.87871861457825, 106.71036863327026, 106.9975814819336, 106.81334519386292]\n",
            "El entrenamiento se demoro: 2145.5037076473236 segundos\n",
            "El entrenamiento se demoro: 35.758395127455394 minutos\n",
            "accuracy => 0.536136269569397\n",
            "loss => 1.1382274627685547\n",
            "val_accuracy => 0.47465553879737854\n",
            "val_loss => 1.2792644500732422\n"
          ]
        },
        {
          "output_type": "display_data",
          "data": {
            "image/png": "[encoded data removed]",
            "text/plain": [
              "<Figure size 576x576 with 2 Axes>"
            ]
          },
          "metadata": {
            "needs_background": "light"
          }
        }
      ]
    },
    {
      "cell_type": "markdown",
      "metadata": {
        "id": "aaZuE2vcsaBs"
      },
      "source": [
        "## Modelo DS002-I04-D006"
      ]
    },
    {
      "cell_type": "code",
      "metadata": {
        "id": "pJrH8QIfsaBt",
        "colab": {
          "base_uri": "https://localhost:8080/"
        },
        "outputId": "4132746c-863d-4769-b59f-0e833df3dedb"
      },
      "source": [
        "from tensorflow.keras import regularizers\n",
        "from time import time\n",
        "#-------------------------------------------------------------------------------\n",
        "cb_I04_D006 = TimingCallback()\n",
        "num_classes = 5\n",
        "epochs=20\n",
        "\n",
        "model_I04_D006 = Sequential([\n",
        "  layers.Conv2D(8, 3, padding='same', activation='relu'),\n",
        "  layers.MaxPooling2D(),\n",
        "  layers.Dropout(0.5),\n",
        "  layers.Conv2D(16, 3, padding='same', activation='relu'),\n",
        "  layers.MaxPooling2D(),\n",
        "  layers.Flatten(),\n",
        "  layers.Dropout(0.5),\n",
        "  layers.Dense(32, activation='relu'),\n",
        "  layers.Dense(num_classes)\n",
        "])\n",
        "model_I04_D006.compile(optimizer='adam',\n",
        "              loss=tf.keras.losses.SparseCategoricalCrossentropy(from_logits=True),\n",
        "              metrics=['accuracy'])\n",
        "# model_I04_D006.summary()\n",
        "\n",
        "\n",
        "history_I04_D006 = model_I04_D006.fit(\n",
        "  train_ds,\n",
        "  validation_data=val_ds,\n",
        "  epochs=epochs,\n",
        "  callbacks=[cb_I04_D006]\n",
        ")\n",
        "\n",
        "#-------------------------------------------------------------------------------"
      ],
      "execution_count": 28,
      "outputs": [
        {
          "output_type": "stream",
          "name": "stdout",
          "text": [
            "Epoch 1/20\n",
            "749/749 [==============================] - 120s 159ms/step - loss: 18.1978 - accuracy: 0.3258 - val_loss: 1.5592 - val_accuracy: 0.3240\n",
            "Epoch 2/20\n",
            "749/749 [==============================] - 120s 159ms/step - loss: 1.5559 - accuracy: 0.3270 - val_loss: 1.5574 - val_accuracy: 0.3240\n",
            "Epoch 3/20\n",
            "749/749 [==============================] - 124s 164ms/step - loss: 1.5555 - accuracy: 0.3270 - val_loss: 1.5574 - val_accuracy: 0.3240\n",
            "Epoch 4/20\n",
            "749/749 [==============================] - 121s 160ms/step - loss: 1.5555 - accuracy: 0.3270 - val_loss: 1.5575 - val_accuracy: 0.3240\n",
            "Epoch 5/20\n",
            "749/749 [==============================] - 120s 159ms/step - loss: 1.5555 - accuracy: 0.3270 - val_loss: 1.5574 - val_accuracy: 0.3240\n",
            "Epoch 6/20\n",
            "749/749 [==============================] - 122s 162ms/step - loss: 1.5555 - accuracy: 0.3270 - val_loss: 1.5574 - val_accuracy: 0.3240\n",
            "Epoch 7/20\n",
            "749/749 [==============================] - 121s 160ms/step - loss: 1.5555 - accuracy: 0.3270 - val_loss: 1.5574 - val_accuracy: 0.3240\n",
            "Epoch 8/20\n",
            "749/749 [==============================] - 122s 161ms/step - loss: 1.5555 - accuracy: 0.3270 - val_loss: 1.5575 - val_accuracy: 0.3240\n",
            "Epoch 9/20\n",
            "749/749 [==============================] - 122s 162ms/step - loss: 1.5555 - accuracy: 0.3270 - val_loss: 1.5574 - val_accuracy: 0.3240\n",
            "Epoch 10/20\n",
            "749/749 [==============================] - 121s 160ms/step - loss: 1.5555 - accuracy: 0.3270 - val_loss: 1.5575 - val_accuracy: 0.3240\n",
            "Epoch 11/20\n",
            "749/749 [==============================] - 116s 153ms/step - loss: 1.5555 - accuracy: 0.3270 - val_loss: 1.5575 - val_accuracy: 0.3240\n",
            "Epoch 12/20\n",
            "749/749 [==============================] - 116s 154ms/step - loss: 1.5555 - accuracy: 0.3270 - val_loss: 1.5575 - val_accuracy: 0.3240\n",
            "Epoch 13/20\n",
            "749/749 [==============================] - 115s 152ms/step - loss: 1.5555 - accuracy: 0.3270 - val_loss: 1.5574 - val_accuracy: 0.3240\n",
            "Epoch 14/20\n",
            "749/749 [==============================] - 115s 153ms/step - loss: 1.5555 - accuracy: 0.3270 - val_loss: 1.5574 - val_accuracy: 0.3240\n",
            "Epoch 15/20\n",
            "749/749 [==============================] - 114s 152ms/step - loss: 1.5555 - accuracy: 0.3270 - val_loss: 1.5575 - val_accuracy: 0.3240\n",
            "Epoch 16/20\n",
            "749/749 [==============================] - 115s 153ms/step - loss: 1.5555 - accuracy: 0.3270 - val_loss: 1.5575 - val_accuracy: 0.3240\n",
            "Epoch 17/20\n",
            "749/749 [==============================] - 116s 154ms/step - loss: 1.5555 - accuracy: 0.3270 - val_loss: 1.5574 - val_accuracy: 0.3240\n",
            "Epoch 18/20\n",
            "749/749 [==============================] - 114s 151ms/step - loss: 1.5555 - accuracy: 0.3270 - val_loss: 1.5574 - val_accuracy: 0.3240\n",
            "Epoch 19/20\n",
            "749/749 [==============================] - 115s 152ms/step - loss: 1.5555 - accuracy: 0.3270 - val_loss: 1.5574 - val_accuracy: 0.3240\n",
            "Epoch 20/20\n",
            "749/749 [==============================] - 115s 152ms/step - loss: 1.5555 - accuracy: 0.3270 - val_loss: 1.5574 - val_accuracy: 0.3240\n"
          ]
        }
      ]
    },
    {
      "cell_type": "code",
      "metadata": {
        "cellView": "code",
        "id": "IQ3Qsh2EsaBu"
      },
      "source": [
        "#-------------------------------------------------------------------------------\n",
        "\n",
        "print(cb_I04_D006.times)\n",
        "final_time = 0\n",
        "for time in cb_I04_D006.times:\n",
        "  final_time += time\n",
        "print('El entrenamiento se demoro: ' +str(final_time)+' segundos')\n",
        "final_time= final_time/60\n",
        "print('El entrenamiento se demoro: ' +str(final_time)+' minutos')\n",
        "print('accuracy => '+ str(max(history_I04_D006.history['accuracy'])))\n",
        "print('loss => '+ str(min(history_I04_D006.history['loss'])))\n",
        "print('val_accuracy => '+ str(max(history_I04_D006.history['val_accuracy'])))\n",
        "print('val_loss => '+ str(min(history_I04_D006.history['val_loss'])))\n",
        "\n",
        "#-------------------------------------------------------------------------------\n",
        "\n",
        "acc = history_I04_D006.history['accuracy']\n",
        "val_acc = history_I04_D006.history['val_accuracy']\n",
        "\n",
        "loss=history_I04_D006.history['loss']\n",
        "val_loss=history_I04_D006.history['val_loss']\n",
        "\n",
        "epochs_range = range(epochs)\n",
        "\n",
        "plt.figure(figsize=(8, 8))\n",
        "plt.subplot(1, 2, 1)\n",
        "plt.plot(epochs_range, acc, label='Training Accuracy')\n",
        "plt.plot(epochs_range, val_acc, label='Validation Accuracy')\n",
        "plt.legend(loc='lower right')\n",
        "plt.title('Training and Validation Accuracy')\n",
        "\n",
        "plt.subplot(1, 2, 2)\n",
        "plt.plot(epochs_range, loss, label='Training Loss')\n",
        "plt.plot(epochs_range, val_loss, label='Validation Loss')\n",
        "plt.legend(loc='upper right')\n",
        "plt.title('Training and Validation Loss')\n",
        "plt.show()"
      ],
      "execution_count": null,
      "outputs": []
    },
    {
      "cell_type": "markdown",
      "metadata": {
        "id": "AMvwNEXaslH6"
      },
      "source": [
        "## Modelo DS002-I04-D007"
      ]
    },
    {
      "cell_type": "code",
      "metadata": {
        "colab": {
          "base_uri": "https://localhost:8080/"
        },
        "id": "uartyfyqslH7",
        "outputId": "599476f7-d43d-499d-d874-7f3bf2688fa5"
      },
      "source": [
        "from tensorflow.keras import regularizers\n",
        "from time import time\n",
        "#-------------------------------------------------------------------------------\n",
        "cb_I04_D007 = TimingCallback()\n",
        "num_classes = 5\n",
        "\n",
        "model_I04_D007 = Sequential([\n",
        "  # layers.experimental.preprocessing.Rescaling(1./255, input_shape=(img_height, img_width, 3)),\n",
        "  layers.Conv2D(8, 3, padding='same', activation='relu'),\n",
        "  layers.MaxPooling2D(),\n",
        "  layers.Dropout(0.75),\n",
        "  layers.Conv2D(16, 3, padding='same', activation='relu'),\n",
        "  layers.MaxPooling2D(),\n",
        "  layers.Dropout(0.75),\n",
        "  layers.Conv2D(16, 3, padding='same', activation='relu'),\n",
        "  layers.MaxPooling2D(),\n",
        "  layers.Flatten(),\n",
        "  layers.Dropout(0.75),\n",
        "  layers.Dense(32, activation='relu'),\n",
        "  layers.Dense(num_classes)\n",
        "])\n",
        "model_I04_D007.compile(optimizer='adam',\n",
        "              loss=tf.keras.losses.SparseCategoricalCrossentropy(from_logits=True),\n",
        "              metrics=['accuracy'])\n",
        "# model_I04_D007.summary()\n",
        "\n",
        "epochs=20\n",
        "history_I04_D007 = model_I04_D007.fit(\n",
        "  train_ds,\n",
        "  validation_data=val_ds,\n",
        "  epochs=epochs,\n",
        "  callbacks=[cb_I04_D007]\n",
        ")\n",
        "\n",
        "#-------------------------------------------------------------------------------"
      ],
      "execution_count": 29,
      "outputs": [
        {
          "output_type": "stream",
          "name": "stdout",
          "text": [
            "Epoch 1/20\n",
            "749/749 [==============================] - 120s 159ms/step - loss: 11.1644 - accuracy: 0.3248 - val_loss: 1.5586 - val_accuracy: 0.3240\n",
            "Epoch 2/20\n",
            "749/749 [==============================] - 116s 154ms/step - loss: 1.5557 - accuracy: 0.3270 - val_loss: 1.5574 - val_accuracy: 0.3240\n",
            "Epoch 3/20\n",
            "749/749 [==============================] - 117s 155ms/step - loss: 1.5555 - accuracy: 0.3270 - val_loss: 1.5574 - val_accuracy: 0.3240\n",
            "Epoch 4/20\n",
            "749/749 [==============================] - 116s 154ms/step - loss: 1.5555 - accuracy: 0.3270 - val_loss: 1.5574 - val_accuracy: 0.3240\n",
            "Epoch 5/20\n",
            "749/749 [==============================] - 118s 156ms/step - loss: 1.5555 - accuracy: 0.3270 - val_loss: 1.5574 - val_accuracy: 0.3240\n",
            "Epoch 6/20\n",
            "749/749 [==============================] - 117s 155ms/step - loss: 1.5555 - accuracy: 0.3270 - val_loss: 1.5574 - val_accuracy: 0.3240\n",
            "Epoch 7/20\n",
            "749/749 [==============================] - 117s 155ms/step - loss: 1.5555 - accuracy: 0.3270 - val_loss: 1.5575 - val_accuracy: 0.3240\n",
            "Epoch 8/20\n",
            "749/749 [==============================] - 116s 154ms/step - loss: 1.5555 - accuracy: 0.3270 - val_loss: 1.5575 - val_accuracy: 0.3240\n",
            "Epoch 9/20\n",
            "749/749 [==============================] - 118s 156ms/step - loss: 1.5555 - accuracy: 0.3270 - val_loss: 1.5575 - val_accuracy: 0.3240\n",
            "Epoch 10/20\n",
            "749/749 [==============================] - 119s 157ms/step - loss: 1.5555 - accuracy: 0.3270 - val_loss: 1.5574 - val_accuracy: 0.3240\n",
            "Epoch 11/20\n",
            "749/749 [==============================] - 118s 156ms/step - loss: 1.5555 - accuracy: 0.3270 - val_loss: 1.5575 - val_accuracy: 0.3240\n",
            "Epoch 12/20\n",
            "749/749 [==============================] - 117s 155ms/step - loss: 1.5555 - accuracy: 0.3270 - val_loss: 1.5574 - val_accuracy: 0.3240\n",
            "Epoch 13/20\n",
            "749/749 [==============================] - 118s 156ms/step - loss: 1.5555 - accuracy: 0.3270 - val_loss: 1.5574 - val_accuracy: 0.3240\n",
            "Epoch 14/20\n",
            "749/749 [==============================] - 117s 155ms/step - loss: 1.5555 - accuracy: 0.3270 - val_loss: 1.5574 - val_accuracy: 0.3240\n",
            "Epoch 15/20\n",
            "749/749 [==============================] - 119s 158ms/step - loss: 1.5555 - accuracy: 0.3270 - val_loss: 1.5574 - val_accuracy: 0.3240\n",
            "Epoch 16/20\n",
            "749/749 [==============================] - 121s 160ms/step - loss: 1.5555 - accuracy: 0.3270 - val_loss: 1.5574 - val_accuracy: 0.3240\n",
            "Epoch 17/20\n",
            "749/749 [==============================] - 119s 157ms/step - loss: 1.5555 - accuracy: 0.3270 - val_loss: 1.5574 - val_accuracy: 0.3240\n",
            "Epoch 18/20\n",
            "749/749 [==============================] - 118s 157ms/step - loss: 1.5555 - accuracy: 0.3270 - val_loss: 1.5575 - val_accuracy: 0.3240\n",
            "Epoch 19/20\n",
            "749/749 [==============================] - 118s 156ms/step - loss: 1.5555 - accuracy: 0.3270 - val_loss: 1.5575 - val_accuracy: 0.3240\n",
            "Epoch 20/20\n",
            "749/749 [==============================] - 117s 155ms/step - loss: 1.5555 - accuracy: 0.3270 - val_loss: 1.5574 - val_accuracy: 0.3240\n"
          ]
        }
      ]
    },
    {
      "cell_type": "code",
      "metadata": {
        "colab": {
          "base_uri": "https://localhost:8080/",
          "height": 638
        },
        "id": "4SCwp_tYslH8",
        "outputId": "ff23c3c5-af20-4814-b2af-3fb5a59c9ebd"
      },
      "source": [
        "#-------------------------------------------------------------------------------\n",
        "print(cb_I04_D007.times)\n",
        "final_time = 0\n",
        "for time in cb_I04_D007.times:\n",
        "  final_time += time\n",
        "print('El entrenamiento se demoro: ' +str(final_time)+' segundos')\n",
        "final_time= final_time/60\n",
        "print('El entrenamiento se demoro: ' +str(final_time)+' minutos')\n",
        "print('accuracy => '+ str(max(history_I04_D007.history['accuracy'])))\n",
        "print('loss => '+ str(min(history_I04_D007.history['loss'])))\n",
        "print('val_accuracy => '+ str(max(history_I04_D007.history['val_accuracy'])))\n",
        "print('val_loss => '+ str(min(history_I04_D007.history['val_loss'])))\n",
        "\n",
        "#-------------------------------------------------------------------------------\n",
        "\n",
        "acc = history_I04_D007.history['accuracy']\n",
        "val_acc = history_I04_D007.history['val_accuracy']\n",
        "\n",
        "loss=history_I04_D007.history['loss']\n",
        "val_loss=history_I04_D007.history['val_loss']\n",
        "\n",
        "epochs_range = range(epochs)\n",
        "\n",
        "plt.figure(figsize=(8, 8))\n",
        "plt.subplot(1, 2, 1)\n",
        "plt.plot(epochs_range, acc, label='Training Accuracy')\n",
        "plt.plot(epochs_range, val_acc, label='Validation Accuracy')\n",
        "plt.legend(loc='lower right')\n",
        "plt.title('Training and Validation Accuracy')\n",
        "\n",
        "plt.subplot(1, 2, 2)\n",
        "plt.plot(epochs_range, loss, label='Training Loss')\n",
        "plt.plot(epochs_range, val_loss, label='Validation Loss')\n",
        "plt.legend(loc='upper right')\n",
        "plt.title('Training and Validation Loss')\n",
        "plt.show()"
      ],
      "execution_count": 30,
      "outputs": [
        {
          "output_type": "stream",
          "name": "stdout",
          "text": [
            "[120.34807443618774, 116.4313805103302, 116.57239317893982, 116.36412191390991, 117.51156854629517, 116.64243650436401, 117.19001245498657, 116.30255270004272, 117.61652517318726, 118.61933994293213, 117.55429148674011, 116.58448505401611, 117.98973202705383, 116.67841100692749, 118.82861733436584, 120.50785779953003, 118.66377758979797, 118.48519539833069, 117.91498351097107, 117.26867270469666]\n",
            "El entrenamiento se demoro: 2354.0744292736053 segundos\n",
            "El entrenamiento se demoro: 39.23457382122675 minutos\n",
            "accuracy => 0.3270009458065033\n",
            "loss => 1.5554518699645996\n",
            "val_accuracy => 0.32400834560394287\n",
            "val_loss => 1.5574352741241455\n"
          ]
        },
        {
          "output_type": "display_data",
          "data": {
            "image/png": "[encoded data removed]",
            "text/plain": [
              "<Figure size 576x576 with 2 Axes>"
            ]
          },
          "metadata": {
            "needs_background": "light"
          }
        }
      ]
    },
    {
      "cell_type": "markdown",
      "metadata": {
        "id": "vyPL_VynslH8"
      },
      "source": [
        "## Modelo DS002-I04-D008"
      ]
    },
    {
      "cell_type": "code",
      "metadata": {
        "colab": {
          "base_uri": "https://localhost:8080/"
        },
        "id": "a9mvYwBUslH9",
        "outputId": "7fce9790-7dc4-4d26-e598-a45e0819eff9"
      },
      "source": [
        "from tensorflow.keras import regularizers\n",
        "from time import time\n",
        "#-------------------------------------------------------------------------------\n",
        "cb_I04_D008 = TimingCallback()\n",
        "num_classes = 10\n",
        "\n",
        "model_I04_D008 = Sequential([\n",
        "  # layers.experimental.preprocessing.Rescaling(1./255, input_shape=(img_height, img_width, 3)),\n",
        "  layers.Conv2D (16, 3, padding='same', activation='relu'),\n",
        "  layers.MaxPooling2D(),\n",
        "  layers.Dropout(0.75),\n",
        "  layers.Conv2D(32, 3, padding='same', activation='relu'),\n",
        "  layers.MaxPooling2D(),\n",
        "  layers.Dropout(0.75),\n",
        "  layers.Conv2D(64, 3, padding='same', activation='relu'),\n",
        "  layers.MaxPooling2D(),\n",
        "  layers.Flatten(),\n",
        "  layers.Dropout(0.75),\n",
        "  layers.Dense(128, activation='relu'),\n",
        "  layers.Dense(num_classes)\n",
        "])\n",
        "model_I04_D008.compile(optimizer='adam',\n",
        "              loss=tf.keras.losses.SparseCategoricalCrossentropy(from_logits=True),\n",
        "              metrics=['accuracy'])\n",
        "# model_I04_D008.summary()\n",
        "\n",
        "epochs=20\n",
        "history_I04_D008 = model_I04_D008.fit(\n",
        "  train_ds,\n",
        "  validation_data=val_ds,\n",
        "  epochs=epochs,\n",
        "  callbacks=[cb_I04_D008]\n",
        ")\n",
        "\n",
        "#-------------------------------------------------------------------------------"
      ],
      "execution_count": 31,
      "outputs": [
        {
          "output_type": "stream",
          "name": "stdout",
          "text": [
            "Epoch 1/20\n",
            "749/749 [==============================] - 122s 159ms/step - loss: 48.7894 - accuracy: 0.2454 - val_loss: 2.0425 - val_accuracy: 0.1775\n",
            "Epoch 2/20\n",
            "749/749 [==============================] - 120s 159ms/step - loss: 1.6179 - accuracy: 0.3340 - val_loss: 1.7698 - val_accuracy: 0.3240\n",
            "Epoch 3/20\n",
            "749/749 [==============================] - 118s 157ms/step - loss: 1.4819 - accuracy: 0.4010 - val_loss: 1.6975 - val_accuracy: 0.3240\n",
            "Epoch 4/20\n",
            "749/749 [==============================] - 118s 156ms/step - loss: 1.4042 - accuracy: 0.4326 - val_loss: 1.6368 - val_accuracy: 0.3240\n",
            "Epoch 5/20\n",
            "749/749 [==============================] - 118s 156ms/step - loss: 1.3195 - accuracy: 0.4600 - val_loss: 1.6478 - val_accuracy: 0.3240\n",
            "Epoch 6/20\n",
            "749/749 [==============================] - 118s 156ms/step - loss: 1.2676 - accuracy: 0.4812 - val_loss: 1.6373 - val_accuracy: 0.3240\n",
            "Epoch 7/20\n",
            "749/749 [==============================] - 118s 157ms/step - loss: 1.2107 - accuracy: 0.4997 - val_loss: 1.6185 - val_accuracy: 0.3278\n",
            "Epoch 8/20\n",
            "749/749 [==============================] - 119s 158ms/step - loss: 1.1472 - accuracy: 0.5143 - val_loss: 1.5834 - val_accuracy: 0.3324\n",
            "Epoch 9/20\n",
            "749/749 [==============================] - 118s 156ms/step - loss: 1.0603 - accuracy: 0.5436 - val_loss: 1.3755 - val_accuracy: 0.3973\n",
            "Epoch 10/20\n",
            "749/749 [==============================] - 120s 159ms/step - loss: 0.9647 - accuracy: 0.5899 - val_loss: 1.2248 - val_accuracy: 0.5805\n",
            "Epoch 11/20\n",
            "749/749 [==============================] - 117s 155ms/step - loss: 0.8807 - accuracy: 0.6294 - val_loss: 1.2283 - val_accuracy: 0.5665\n",
            "Epoch 12/20\n",
            "749/749 [==============================] - 122s 162ms/step - loss: 0.8022 - accuracy: 0.6614 - val_loss: 1.0580 - val_accuracy: 0.6377\n",
            "Epoch 13/20\n",
            "749/749 [==============================] - 121s 160ms/step - loss: 0.7247 - accuracy: 0.7005 - val_loss: 1.2394 - val_accuracy: 0.4254\n",
            "Epoch 14/20\n",
            "749/749 [==============================] - 119s 158ms/step - loss: 0.6660 - accuracy: 0.7240 - val_loss: 1.2873 - val_accuracy: 0.3753\n",
            "Epoch 15/20\n",
            "749/749 [==============================] - 118s 156ms/step - loss: 0.6245 - accuracy: 0.7446 - val_loss: 1.4251 - val_accuracy: 0.3877\n",
            "Epoch 16/20\n",
            "749/749 [==============================] - 118s 156ms/step - loss: 0.5929 - accuracy: 0.7560 - val_loss: 1.3099 - val_accuracy: 0.4503\n",
            "Epoch 17/20\n",
            "749/749 [==============================] - 118s 156ms/step - loss: 0.5642 - accuracy: 0.7703 - val_loss: 1.3480 - val_accuracy: 0.3866\n",
            "Epoch 18/20\n",
            "749/749 [==============================] - 119s 157ms/step - loss: 0.5557 - accuracy: 0.7743 - val_loss: 1.5946 - val_accuracy: 0.3454\n",
            "Epoch 19/20\n",
            "749/749 [==============================] - 119s 158ms/step - loss: 0.5394 - accuracy: 0.7796 - val_loss: 1.4077 - val_accuracy: 0.3080\n",
            "Epoch 20/20\n",
            "749/749 [==============================] - 118s 156ms/step - loss: 0.5191 - accuracy: 0.7879 - val_loss: 1.4077 - val_accuracy: 0.4325\n"
          ]
        }
      ]
    },
    {
      "cell_type": "code",
      "metadata": {
        "id": "XWPQymtkslH9",
        "colab": {
          "base_uri": "https://localhost:8080/",
          "height": 0
        },
        "outputId": "1016b0b4-cadb-4118-f1e0-e1181b0fc58d"
      },
      "source": [
        "#-------------------------------------------------------------------------------\n",
        "\n",
        "print(cb_I04_D008.times)\n",
        "final_time = 0\n",
        "for time in cb_I04_D008.times:\n",
        "  final_time += time\n",
        "print('El entrenamiento se demoro: ' +str(final_time)+' segundos')\n",
        "final_time= final_time/60\n",
        "print('El entrenamiento se demoro: ' +str(final_time)+' minutos')\n",
        "print('accuracy => '+ str(max(history_I04_D008.history['accuracy'])))\n",
        "print('loss => '+ str(min(history_I04_D008.history['loss'])))\n",
        "print('val_accuracy => '+ str(max(history_I04_D008.history['val_accuracy'])))\n",
        "print('val_loss => '+ str(min(history_I04_D008.history['val_loss'])))\n",
        "\n",
        "#-------------------------------------------------------------------------------\n",
        "\n",
        "acc = history_I04_D008.history['accuracy']\n",
        "val_acc = history_I04_D008.history['val_accuracy']\n",
        "\n",
        "loss=history_I04_D008.history['loss']\n",
        "val_loss=history_I04_D008.history['val_loss']\n",
        "\n",
        "epochs_range = range(epochs)\n",
        "\n",
        "plt.figure(figsize=(8, 8))\n",
        "plt.subplot(1, 2, 1)\n",
        "plt.plot(epochs_range, acc, label='Training Accuracy')\n",
        "plt.plot(epochs_range, val_acc, label='Validation Accuracy')\n",
        "plt.legend(loc='lower right')\n",
        "plt.title('Training and Validation Accuracy')\n",
        "\n",
        "plt.subplot(1, 2, 2)\n",
        "plt.plot(epochs_range, loss, label='Training Loss')\n",
        "plt.plot(epochs_range, val_loss, label='Validation Loss')\n",
        "plt.legend(loc='upper right')\n",
        "plt.title('Training and Validation Loss')\n",
        "plt.show()"
      ],
      "execution_count": 32,
      "outputs": [
        {
          "output_type": "stream",
          "name": "stdout",
          "text": [
            "[122.11292147636414, 120.01418375968933, 118.0486671924591, 118.04021406173706, 118.00978970527649, 118.03188228607178, 118.32590055465698, 119.41860675811768, 117.9218156337738, 119.9999692440033, 116.71881532669067, 121.96368384361267, 120.63923358917236, 119.10650539398193, 117.50586652755737, 117.69155621528625, 117.68187355995178, 118.63645195960999, 119.35188102722168, 117.61446499824524]\n",
            "El entrenamiento se demoro: 2376.8342831134796 segundos\n",
            "El entrenamiento se demoro: 39.613904718558 minutos\n",
            "accuracy => 0.7878585457801819\n",
            "loss => 0.5190821290016174\n",
            "val_accuracy => 0.6377453207969666\n",
            "val_loss => 1.0580471754074097\n"
          ]
        },
        {
          "output_type": "display_data",
          "data": {
            "image/png": "[encoded data removed]",
            "text/plain": [
              "<Figure size 576x576 with 2 Axes>"
            ]
          },
          "metadata": {
            "needs_background": "light"
          }
        }
      ]
    },
    {
      "cell_type": "markdown",
      "metadata": {
        "id": "uf-rUmeVslH9"
      },
      "source": [
        "## Modelo DS002-I04-D009"
      ]
    },
    {
      "cell_type": "code",
      "metadata": {
        "id": "pPL2qWkpslH-",
        "colab": {
          "base_uri": "https://localhost:8080/"
        },
        "outputId": "6da30142-69d2-46f2-be62-7ee223faaea5"
      },
      "source": [
        "from tensorflow.keras import regularizers\n",
        "from time import time\n",
        "#-------------------------------------------------------------------------------\n",
        "cb_I04_D009 = TimingCallback()\n",
        "num_classes = 5\n",
        "epochs=20\n",
        "\n",
        "model_I04_D009 = Sequential([\n",
        "  layers.Conv2D(8, 3, padding='same', activation='relu'),\n",
        "  layers.MaxPooling2D(),\n",
        "  layers.Dropout(0.75),\n",
        "  layers.Conv2D(16, 3, padding='same', activation='relu'),\n",
        "  layers.MaxPooling2D(),\n",
        "  layers.Flatten(),\n",
        "  layers.Dropout(0.75),\n",
        "  layers.Dense(32, activation='relu'),\n",
        "  layers.Dense(num_classes)\n",
        "])\n",
        "model_I04_D009.compile(optimizer='adam',\n",
        "              loss=tf.keras.losses.SparseCategoricalCrossentropy(from_logits=True),\n",
        "              metrics=['accuracy'])\n",
        "# model_I04_D009.summary()\n",
        "\n",
        "\n",
        "history_I04_D009 = model_I04_D009.fit(\n",
        "  train_ds,\n",
        "  validation_data=val_ds,\n",
        "  epochs=epochs,\n",
        "  callbacks=[cb_I04_D009]\n",
        ")\n",
        "\n",
        "#-------------------------------------------------------------------------------"
      ],
      "execution_count": 33,
      "outputs": [
        {
          "output_type": "stream",
          "name": "stdout",
          "text": [
            "Epoch 1/20\n",
            "749/749 [==============================] - 198s 263ms/step - loss: 10.0971 - accuracy: 0.3251 - val_loss: 1.5585 - val_accuracy: 0.3240\n",
            "Epoch 2/20\n",
            "749/749 [==============================] - 112s 149ms/step - loss: 1.5557 - accuracy: 0.3270 - val_loss: 1.5574 - val_accuracy: 0.3240\n",
            "Epoch 3/20\n",
            "749/749 [==============================] - 112s 148ms/step - loss: 1.5554 - accuracy: 0.3270 - val_loss: 1.5574 - val_accuracy: 0.3240\n",
            "Epoch 4/20\n",
            "749/749 [==============================] - 112s 148ms/step - loss: 1.5555 - accuracy: 0.3270 - val_loss: 1.5575 - val_accuracy: 0.3240\n",
            "Epoch 5/20\n",
            "749/749 [==============================] - 111s 147ms/step - loss: 1.5555 - accuracy: 0.3270 - val_loss: 1.5575 - val_accuracy: 0.3240\n",
            "Epoch 6/20\n",
            "749/749 [==============================] - 111s 147ms/step - loss: 1.5555 - accuracy: 0.3270 - val_loss: 1.5575 - val_accuracy: 0.3240\n",
            "Epoch 7/20\n",
            "749/749 [==============================] - 111s 147ms/step - loss: 1.5555 - accuracy: 0.3270 - val_loss: 1.5574 - val_accuracy: 0.3240\n",
            "Epoch 8/20\n",
            "749/749 [==============================] - 111s 148ms/step - loss: 1.5555 - accuracy: 0.3270 - val_loss: 1.5575 - val_accuracy: 0.3240\n",
            "Epoch 9/20\n",
            "749/749 [==============================] - 112s 148ms/step - loss: 1.5555 - accuracy: 0.3270 - val_loss: 1.5575 - val_accuracy: 0.3240\n",
            "Epoch 10/20\n",
            "749/749 [==============================] - 111s 148ms/step - loss: 1.5555 - accuracy: 0.3270 - val_loss: 1.5575 - val_accuracy: 0.3240\n",
            "Epoch 11/20\n",
            "749/749 [==============================] - 111s 148ms/step - loss: 1.5555 - accuracy: 0.3270 - val_loss: 1.5575 - val_accuracy: 0.3240\n",
            "Epoch 12/20\n",
            "749/749 [==============================] - 112s 148ms/step - loss: 1.5555 - accuracy: 0.3270 - val_loss: 1.5575 - val_accuracy: 0.3240\n",
            "Epoch 13/20\n",
            "749/749 [==============================] - 112s 148ms/step - loss: 1.5555 - accuracy: 0.3270 - val_loss: 1.5574 - val_accuracy: 0.3240\n",
            "Epoch 14/20\n",
            "749/749 [==============================] - 111s 148ms/step - loss: 1.5555 - accuracy: 0.3270 - val_loss: 1.5574 - val_accuracy: 0.3240\n",
            "Epoch 15/20\n",
            "749/749 [==============================] - 111s 147ms/step - loss: 1.5555 - accuracy: 0.3270 - val_loss: 1.5574 - val_accuracy: 0.3240\n",
            "Epoch 16/20\n",
            "749/749 [==============================] - 112s 149ms/step - loss: 1.5555 - accuracy: 0.3270 - val_loss: 1.5575 - val_accuracy: 0.3240\n",
            "Epoch 17/20\n",
            "749/749 [==============================] - 112s 148ms/step - loss: 1.5555 - accuracy: 0.3270 - val_loss: 1.5575 - val_accuracy: 0.3240\n",
            "Epoch 18/20\n",
            "749/749 [==============================] - 112s 148ms/step - loss: 1.5555 - accuracy: 0.3270 - val_loss: 1.5574 - val_accuracy: 0.3240\n",
            "Epoch 19/20\n",
            "749/749 [==============================] - 112s 148ms/step - loss: 1.5555 - accuracy: 0.3270 - val_loss: 1.5575 - val_accuracy: 0.3240\n",
            "Epoch 20/20\n",
            "749/749 [==============================] - 112s 148ms/step - loss: 1.5555 - accuracy: 0.3270 - val_loss: 1.5574 - val_accuracy: 0.3240\n"
          ]
        }
      ]
    },
    {
      "cell_type": "code",
      "metadata": {
        "cellView": "code",
        "id": "HskoBHEislH-",
        "colab": {
          "base_uri": "https://localhost:8080/",
          "height": 638
        },
        "outputId": "7ed2fd2f-76b3-4680-d84d-6e74e5fa0fd4"
      },
      "source": [
        "#-------------------------------------------------------------------------------\n",
        "\n",
        "print(cb_I04_D009.times)\n",
        "final_time = 0\n",
        "for time in cb_I04_D009.times:\n",
        "  final_time += time\n",
        "print('El entrenamiento se demoro: ' +str(final_time)+' segundos')\n",
        "final_time= final_time/60\n",
        "print('El entrenamiento se demoro: ' +str(final_time)+' minutos')\n",
        "print('accuracy => '+ str(max(history_I04_D009.history['accuracy'])))\n",
        "print('loss => '+ str(min(history_I04_D009.history['loss'])))\n",
        "print('val_accuracy => '+ str(max(history_I04_D009.history['val_accuracy'])))\n",
        "print('val_loss => '+ str(min(history_I04_D009.history['val_loss'])))\n",
        "\n",
        "#-------------------------------------------------------------------------------\n",
        "\n",
        "acc = history_I04_D009.history['accuracy']\n",
        "val_acc = history_I04_D009.history['val_accuracy']\n",
        "\n",
        "loss=history_I04_D009.history['loss']\n",
        "val_loss=history_I04_D009.history['val_loss']\n",
        "\n",
        "epochs_range = range(epochs)\n",
        "\n",
        "plt.figure(figsize=(8, 8))\n",
        "plt.subplot(1, 2, 1)\n",
        "plt.plot(epochs_range, acc, label='Training Accuracy')\n",
        "plt.plot(epochs_range, val_acc, label='Validation Accuracy')\n",
        "plt.legend(loc='lower right')\n",
        "plt.title('Training and Validation Accuracy')\n",
        "\n",
        "plt.subplot(1, 2, 2)\n",
        "plt.plot(epochs_range, loss, label='Training Loss')\n",
        "plt.plot(epochs_range, val_loss, label='Validation Loss')\n",
        "plt.legend(loc='upper right')\n",
        "plt.title('Training and Validation Loss')\n",
        "plt.show()"
      ],
      "execution_count": 34,
      "outputs": [
        {
          "output_type": "stream",
          "name": "stdout",
          "text": [
            "[197.94710731506348, 112.30314636230469, 111.7823543548584, 111.9351589679718, 111.2734169960022, 110.59384393692017, 111.09534454345703, 111.3307614326477, 111.7567355632782, 111.48144173622131, 111.38842344284058, 111.53686475753784, 111.63090944290161, 111.45012712478638, 111.23800468444824, 112.07016777992249, 111.62552189826965, 111.60434818267822, 111.58701467514038, 111.64891123771667]\n",
            "El entrenamiento se demoro: 2317.279604434967 segundos\n",
            "El entrenamiento se demoro: 38.62132674058278 minutos\n",
            "accuracy => 0.3270009458065033\n",
            "loss => 1.5554498434066772\n",
            "val_accuracy => 0.32400834560394287\n",
            "val_loss => 1.5574357509613037\n"
          ]
        },
        {
          "output_type": "display_data",
          "data": {
            "image/png": "[encoded data removed]",
            "text/plain": [
              "<Figure size 576x576 with 2 Axes>"
            ]
          },
          "metadata": {
            "needs_background": "light"
          }
        }
      ]
    }
  ]
}