{
  "nbformat": 4,
  "nbformat_minor": 0,
  "metadata": {
    "accelerator": "GPU",
    "colab": {
      "name": "Modelo_entrenamiento__IT05_try01.ipynb",
      "provenance": [],
      "collapsed_sections": [
        "T9pflda8hwHY",
        "yjabTig3gqyo"
      ],
      "authorship_tag": "ABX9TyPIh+QwJ8+0Q5z5Eb6XshTI",
      "include_colab_link": true
    },
    "kernelspec": {
      "display_name": "Python 3",
      "name": "python3"
    },
    "language_info": {
      "name": "python"
    }
  },
  "cells": [
    {
      "cell_type": "markdown",
      "metadata": {
        "id": "view-in-github",
        "colab_type": "text"
      },
      "source": [
        "<a href=\"https://colab.research.google.com/github/Sisterno/ML_RedesNeuronales/blob/master/IT05/Modelo_entrenamiento__IT05_try01.ipynb\" target=\"_parent\"><img src=\"https://colab.research.google.com/assets/colab-badge.svg\" alt=\"Open In Colab\"/></a>"
      ]
    },
    {
      "cell_type": "code",
      "metadata": {
        "colab": {
          "base_uri": "https://localhost:8080/"
        },
        "id": "lN4YvgXJ2Nui",
        "outputId": "06561fcd-22e1-4053-d169-979d3ac6aa56"
      },
      "source": [
        "import matplotlib.pyplot as plt\n",
        "import numpy as np\n",
        "import os\n",
        "import PIL\n",
        "import tensorflow as tf\n",
        " \n",
        "from tensorflow import keras\n",
        "from tensorflow.keras import layers\n",
        "from tensorflow.keras.models import Sequential\n",
        "from time import time\n",
        "import pathlib\n",
        " \n",
        "path_img_leucocitos = \"/content/drive/MyDrive/ML/04-dataset-preprocesado-fusion\";\n",
        "pathlib_img_leucocitos=pathlib.Path(path_img_leucocitos)\n",
        " \n",
        "from google.colab import drive\n",
        "drive.mount('/content/drive')\n",
        " \n",
        "# batch_size = 32\n",
        "batch_size = 32\n",
        "img_height = 180\n",
        "img_width = 180\n",
        " \n",
        "#-------------------------------------------------------------------------------\n",
        "class TimingCallback(keras.callbacks.Callback):\n",
        "    def on_train_begin(self, logs={}):\n",
        "        self.times = []\n",
        "    def on_epoch_begin(self, batch, logs={}):\n",
        "        self.epoch_time_start = time()\n",
        "    def on_epoch_end(self, batch, logs={}):\n",
        "        self.times.append(time() - self.epoch_time_start)\n",
        "#-------------------------------------------------------------------------------\n",
        " \n",
        "train_ds = tf.keras.preprocessing.image_dataset_from_directory(\n",
        "  path_img_leucocitos,\n",
        "  validation_split=0.2,\n",
        "  subset=\"training\",\n",
        "  seed=123,\n",
        "  image_size=(img_height, img_width),\n",
        "  batch_size=batch_size\n",
        ")\n",
        "val_ds = tf.keras.preprocessing.image_dataset_from_directory(\n",
        "  path_img_leucocitos,\n",
        "  validation_split=0.2,\n",
        "  subset=\"validation\",\n",
        "  seed=123,\n",
        "  image_size=(img_height, img_width),\n",
        "  batch_size=batch_size\n",
        ")\n",
        " \n",
        "AUTOTUNE = tf.data.AUTOTUNE\n",
        " \n",
        "# train_ds = train_ds.cache().prefetch(buffer_size=AUTOTUNE)\n",
        "# val_ds = val_ds.cache().prefetch(buffer_size=AUTOTUNE)\n",
        "# train_ds = train_ds.prefetch(buffer_size=AUTOTUNE)\n",
        "# val_ds = val_ds.prefetch(buffer_size=AUTOTUNE)"
      ],
      "execution_count": 10,
      "outputs": [
        {
          "output_type": "stream",
          "name": "stdout",
          "text": [
            "Drive already mounted at /content/drive; to attempt to forcibly remount, call drive.mount(\"/content/drive\", force_remount=True).\n",
            "Found 59877 files belonging to 5 classes.\n",
            "Using 47902 files for training.\n",
            "Found 59877 files belonging to 5 classes.\n",
            "Using 11975 files for validation.\n"
          ]
        }
      ]
    },
    {
      "cell_type": "markdown",
      "metadata": {
        "id": "T9pflda8hwHY"
      },
      "source": [
        "## Modelo DS002-I05-D001"
      ]
    },
    {
      "cell_type": "code",
      "metadata": {
        "colab": {
          "base_uri": "https://localhost:8080/"
        },
        "id": "u2qlOLhhhxBE",
        "outputId": "5422cfda-35da-47bb-ae98-d2b8af5a1763"
      },
      "source": [
        "from tensorflow.keras import regularizers\n",
        "from time import time\n",
        "#-------------------------------------------------------------------------------\n",
        "cb_I05_D001 = TimingCallback()\n",
        "num_classes = 5\n",
        "\n",
        "model_I05_D001 = Sequential([\n",
        "  # layers.experimental.preprocessing.Rescaling(1./255, input_shape=(img_height, img_width, 3)),\n",
        "  layers.Conv2D(8, 3, padding='same', activation='relu'),\n",
        "  layers.MaxPooling2D(),\n",
        "  layers.Dropout(0.25),\n",
        "  layers.Conv2D(16, 3, padding='same', activation='relu'),\n",
        "  layers.MaxPooling2D(),\n",
        "  layers.Dropout(0.25),\n",
        "  layers.Conv2D(16, 3, padding='same', activation='relu'),\n",
        "  layers.MaxPooling2D(),\n",
        "  layers.Flatten(),\n",
        "  layers.Dropout(0.25),\n",
        "  layers.Dense(32, activation='relu'),\n",
        "  layers.Dense(num_classes)\n",
        "])\n",
        "model_I05_D001.compile(optimizer='adam',\n",
        "              loss=tf.keras.losses.SparseCategoricalCrossentropy(from_logits=True),\n",
        "              metrics=['accuracy'])\n",
        "# model_I05_D001.summary()\n",
        "\n",
        "epochs=35\n",
        "history_I05_D001 = model_I05_D001.fit(\n",
        "  train_ds,\n",
        "  validation_data=val_ds,\n",
        "  epochs=epochs,\n",
        "  callbacks=[cb_I05_D001]\n",
        ")\n",
        "\n",
        "#-------------------------------------------------------------------------------"
      ],
      "execution_count": 19,
      "outputs": [
        {
          "output_type": "stream",
          "name": "stdout",
          "text": [
            "Epoch 1/35\n",
            "47/47 [==============================] - 171s 3s/step - loss: 145.2457 - accuracy: 0.2238 - val_loss: 1.6166 - val_accuracy: 0.1863\n",
            "Epoch 2/35\n",
            "47/47 [==============================] - 161s 3s/step - loss: 1.8399 - accuracy: 0.2027 - val_loss: 1.6206 - val_accuracy: 0.1511\n",
            "Epoch 3/35\n",
            "47/47 [==============================] - 158s 3s/step - loss: 1.6338 - accuracy: 0.2112 - val_loss: 1.6019 - val_accuracy: 0.2693\n",
            "Epoch 4/35\n",
            "47/47 [==============================] - 157s 3s/step - loss: 1.6067 - accuracy: 0.3046 - val_loss: 1.5947 - val_accuracy: 0.3243\n",
            "Epoch 5/35\n",
            "47/47 [==============================] - 159s 3s/step - loss: 1.5953 - accuracy: 0.3256 - val_loss: 1.5884 - val_accuracy: 0.3241\n",
            "Epoch 6/35\n",
            "47/47 [==============================] - 159s 3s/step - loss: 1.5880 - accuracy: 0.3265 - val_loss: 1.5830 - val_accuracy: 0.3240\n",
            "Epoch 7/35\n",
            "47/47 [==============================] - 157s 3s/step - loss: 1.5809 - accuracy: 0.3266 - val_loss: 1.5784 - val_accuracy: 0.3241\n",
            "Epoch 8/35\n",
            "47/47 [==============================] - 154s 3s/step - loss: 1.5767 - accuracy: 0.3267 - val_loss: 1.5744 - val_accuracy: 0.3241\n",
            "Epoch 9/35\n",
            "47/47 [==============================] - 157s 3s/step - loss: 1.5723 - accuracy: 0.3268 - val_loss: 1.5710 - val_accuracy: 0.3241\n",
            "Epoch 10/35\n",
            "47/47 [==============================] - 154s 3s/step - loss: 1.5692 - accuracy: 0.3270 - val_loss: 1.5682 - val_accuracy: 0.3241\n",
            "Epoch 11/35\n",
            "47/47 [==============================] - 156s 3s/step - loss: 1.5665 - accuracy: 0.3269 - val_loss: 1.5658 - val_accuracy: 0.3241\n",
            "Epoch 12/35\n",
            "47/47 [==============================] - 156s 3s/step - loss: 1.5643 - accuracy: 0.3269 - val_loss: 1.5638 - val_accuracy: 0.3241\n",
            "Epoch 13/35\n",
            "47/47 [==============================] - 156s 3s/step - loss: 1.5620 - accuracy: 0.3270 - val_loss: 1.5623 - val_accuracy: 0.3241\n",
            "Epoch 14/35\n",
            "47/47 [==============================] - 155s 3s/step - loss: 1.5605 - accuracy: 0.3270 - val_loss: 1.5611 - val_accuracy: 0.3241\n",
            "Epoch 15/35\n",
            "47/47 [==============================] - 155s 3s/step - loss: 1.5592 - accuracy: 0.3270 - val_loss: 1.5601 - val_accuracy: 0.3241\n",
            "Epoch 16/35\n",
            "47/47 [==============================] - 155s 3s/step - loss: 1.5582 - accuracy: 0.3270 - val_loss: 1.5594 - val_accuracy: 0.3241\n",
            "Epoch 17/35\n",
            "47/47 [==============================] - 156s 3s/step - loss: 1.5578 - accuracy: 0.3270 - val_loss: 1.5589 - val_accuracy: 0.3241\n",
            "Epoch 18/35\n",
            "47/47 [==============================] - 157s 3s/step - loss: 1.5572 - accuracy: 0.3270 - val_loss: 1.5585 - val_accuracy: 0.3240\n",
            "Epoch 19/35\n",
            "47/47 [==============================] - 158s 3s/step - loss: 1.5564 - accuracy: 0.3270 - val_loss: 1.5582 - val_accuracy: 0.3240\n",
            "Epoch 20/35\n",
            "47/47 [==============================] - 157s 3s/step - loss: 1.5565 - accuracy: 0.3270 - val_loss: 1.5580 - val_accuracy: 0.3240\n",
            "Epoch 21/35\n",
            "47/47 [==============================] - 158s 3s/step - loss: 1.5559 - accuracy: 0.3270 - val_loss: 1.5579 - val_accuracy: 0.3240\n",
            "Epoch 22/35\n",
            "47/47 [==============================] - 157s 3s/step - loss: 1.5559 - accuracy: 0.3270 - val_loss: 1.5578 - val_accuracy: 0.3240\n",
            "Epoch 23/35\n",
            "47/47 [==============================] - 157s 3s/step - loss: 1.5558 - accuracy: 0.3269 - val_loss: 1.5577 - val_accuracy: 0.3240\n",
            "Epoch 24/35\n",
            "47/47 [==============================] - 158s 3s/step - loss: 1.5556 - accuracy: 0.3270 - val_loss: 1.5577 - val_accuracy: 0.3240\n",
            "Epoch 25/35\n",
            "47/47 [==============================] - 159s 3s/step - loss: 1.5556 - accuracy: 0.3270 - val_loss: 1.5577 - val_accuracy: 0.3240\n",
            "Epoch 26/35\n",
            "47/47 [==============================] - 157s 3s/step - loss: 1.5556 - accuracy: 0.3270 - val_loss: 1.5576 - val_accuracy: 0.3240\n",
            "Epoch 27/35\n",
            "47/47 [==============================] - 155s 3s/step - loss: 1.5554 - accuracy: 0.3270 - val_loss: 1.5576 - val_accuracy: 0.3240\n",
            "Epoch 28/35\n",
            "47/47 [==============================] - 155s 3s/step - loss: 1.5554 - accuracy: 0.3270 - val_loss: 1.5576 - val_accuracy: 0.3240\n",
            "Epoch 29/35\n",
            "47/47 [==============================] - 155s 3s/step - loss: 1.5554 - accuracy: 0.3270 - val_loss: 1.5576 - val_accuracy: 0.3240\n",
            "Epoch 30/35\n",
            "47/47 [==============================] - 154s 3s/step - loss: 1.5554 - accuracy: 0.3270 - val_loss: 1.5576 - val_accuracy: 0.3240\n",
            "Epoch 31/35\n",
            "47/47 [==============================] - 155s 3s/step - loss: 1.5554 - accuracy: 0.3270 - val_loss: 1.5576 - val_accuracy: 0.3240\n",
            "Epoch 32/35\n",
            "47/47 [==============================] - 157s 3s/step - loss: 1.5554 - accuracy: 0.3270 - val_loss: 1.5577 - val_accuracy: 0.3240\n",
            "Epoch 33/35\n",
            "47/47 [==============================] - 156s 3s/step - loss: 1.5554 - accuracy: 0.3270 - val_loss: 1.5577 - val_accuracy: 0.3240\n",
            "Epoch 34/35\n",
            "47/47 [==============================] - 157s 3s/step - loss: 1.5554 - accuracy: 0.3270 - val_loss: 1.5577 - val_accuracy: 0.3240\n",
            "Epoch 35/35\n",
            "47/47 [==============================] - 155s 3s/step - loss: 1.5554 - accuracy: 0.3270 - val_loss: 1.5577 - val_accuracy: 0.3240\n"
          ]
        }
      ]
    },
    {
      "cell_type": "code",
      "metadata": {
        "colab": {
          "base_uri": "https://localhost:8080/",
          "height": 638
        },
        "id": "zPY_IYgzhwuV",
        "outputId": "02b5069c-b990-4d59-fcbd-7291f6c28e45"
      },
      "source": [
        "#-------------------------------------------------------------------------------\n",
        "print(cb_I05_D001.times)\n",
        "final_time = 0\n",
        "for time in cb_I05_D001.times:\n",
        "  final_time += time\n",
        "print('El entrenamiento se demoro: ' +str(final_time)+' segundos')\n",
        "final_time= final_time/60\n",
        "print('El entrenamiento se demoro: ' +str(final_time)+' minutos')\n",
        "print('accuracy => '+ str(max(history_I05_D001.history['accuracy'])))\n",
        "print('loss => '+ str(min(history_I05_D001.history['loss'])))\n",
        "print('val_accuracy => '+ str(max(history_I05_D001.history['val_accuracy'])))\n",
        "print('val_loss => '+ str(min(history_I05_D001.history['val_loss'])))\n",
        "\n",
        "#-------------------------------------------------------------------------------\n",
        "\n",
        "acc = history_I05_D001.history['accuracy']\n",
        "val_acc = history_I05_D001.history['val_accuracy']\n",
        "\n",
        "loss=history_I05_D001.history['loss']\n",
        "val_loss=history_I05_D001.history['val_loss']\n",
        "\n",
        "epochs_range = range(epochs)\n",
        "\n",
        "plt.figure(figsize=(8, 8))\n",
        "plt.subplot(1, 2, 1)\n",
        "plt.plot(epochs_range, acc, label='Training Accuracy')\n",
        "plt.plot(epochs_range, val_acc, label='Validation Accuracy')\n",
        "plt.legend(loc='lower right')\n",
        "plt.title('Training and Validation Accuracy')\n",
        "\n",
        "plt.subplot(1, 2, 2)\n",
        "plt.plot(epochs_range, loss, label='Training Loss')\n",
        "plt.plot(epochs_range, val_loss, label='Validation Loss')\n",
        "plt.legend(loc='upper right')\n",
        "plt.title('Training and Validation Loss')\n",
        "plt.show()"
      ],
      "execution_count": 20,
      "outputs": [
        {
          "output_type": "stream",
          "name": "stdout",
          "text": [
            "[171.01025462150574, 160.8713092803955, 158.0992078781128, 157.42239618301392, 159.08926725387573, 158.73892855644226, 156.8483180999756, 153.82967233657837, 156.60319900512695, 153.7368860244751, 155.5445077419281, 155.70700192451477, 155.58376479148865, 154.96601939201355, 155.0756402015686, 155.3648557662964, 155.8889524936676, 157.3641300201416, 157.66895461082458, 157.38521361351013, 157.67152881622314, 157.36604857444763, 157.16821193695068, 157.6583743095398, 158.63513493537903, 157.30278038978577, 154.5153293609619, 155.09896230697632, 154.67940211296082, 154.39054322242737, 154.56238389015198, 156.60330057144165, 155.79093194007874, 156.8286850452423, 155.19541263580322]\n",
            "El entrenamiento se demoro: 5490.265509843826 segundos\n",
            "El entrenamiento se demoro: 91.50442516406378 minutos\n",
            "accuracy => 0.32702183723449707\n",
            "loss => 1.5553529262542725\n",
            "val_accuracy => 0.32425886392593384\n",
            "val_loss => 1.5576303005218506\n"
          ]
        },
        {
          "output_type": "display_data",
          "data": {
            "image/png": "[encoded data removed]",
            "text/plain": [
              "<Figure size 576x576 with 2 Axes>"
            ]
          },
          "metadata": {
            "needs_background": "light"
          }
        }
      ]
    },
    {
      "cell_type": "markdown",
      "metadata": {
        "id": "yjabTig3gqyo"
      },
      "source": [
        "## Modelo DS002-I05-D002"
      ]
    },
    {
      "cell_type": "code",
      "metadata": {
        "colab": {
          "background_save": true,
          "base_uri": "https://localhost:8080/"
        },
        "id": "fNbKGjLsgppE",
        "outputId": "699c51a8-4c6f-4f69-ee11-6f5566a652be"
      },
      "source": [
        "from tensorflow.keras import regularizers\n",
        "from time import time\n",
        "#-------------------------------------------------------------------------------\n",
        "cb_I05_D002 = TimingCallback()\n",
        "num_classes = 10\n",
        "\n",
        "model_I05_D002 = Sequential([\n",
        "  # layers.experimental.preprocessing.Rescaling(1./255, input_shape=(img_height, img_width, 3)),\n",
        "  layers.Conv2D (16, 3, padding='same', activation='relu'),\n",
        "  layers.MaxPooling2D(),\n",
        "  layers.Dropout(0.25),\n",
        "  layers.Conv2D(32, 3, padding='same', activation='relu'),\n",
        "  layers.MaxPooling2D(),\n",
        "  layers.Dropout(0.25),\n",
        "  layers.Conv2D(64, 3, padding='same', activation='relu'),\n",
        "  layers.MaxPooling2D(),\n",
        "  layers.Flatten(),\n",
        "  layers.Dropout(0.25),\n",
        "  layers.Dense(128, activation='relu'),\n",
        "  layers.Dense(num_classes)\n",
        "])\n",
        "model_I05_D002.compile(optimizer='adam',\n",
        "              loss=tf.keras.losses.SparseCategoricalCrossentropy(from_logits=True),\n",
        "              metrics=['accuracy'])\n",
        "# model_I05_D002.summary()\n",
        "\n",
        "epochs=35\n",
        "history_I05_D002 = model_I05_D002.fit(\n",
        "  train_ds,\n",
        "  validation_data=val_ds,\n",
        "  epochs=epochs,\n",
        "  callbacks=[cb_I05_D002]\n",
        ")\n",
        "\n",
        "#-------------------------------------------------------------------------------"
      ],
      "execution_count": null,
      "outputs": [
        {
          "name": "stdout",
          "output_type": "stream",
          "text": [
            "Epoch 1/35\n",
            "375/375 [==============================] - 111s 289ms/step - loss: 16.9319 - accuracy: 0.3659 - val_loss: 1.4188 - val_accuracy: 0.4392\n",
            "Epoch 2/35\n",
            "375/375 [==============================] - 111s 291ms/step - loss: 1.3140 - accuracy: 0.4640 - val_loss: 1.0327 - val_accuracy: 0.5644\n",
            "Epoch 3/35\n",
            "375/375 [==============================] - 111s 293ms/step - loss: 0.8570 - accuracy: 0.6446 - val_loss: 0.8501 - val_accuracy: 0.6243\n",
            "Epoch 4/35\n",
            "375/375 [==============================] - 111s 292ms/step - loss: 0.6694 - accuracy: 0.7274 - val_loss: 0.7232 - val_accuracy: 0.7062\n",
            "Epoch 5/35\n",
            "375/375 [==============================] - 111s 292ms/step - loss: 0.5488 - accuracy: 0.7838 - val_loss: 0.7279 - val_accuracy: 0.7008\n",
            "Epoch 6/35\n",
            "375/375 [==============================] - 109s 287ms/step - loss: 0.4389 - accuracy: 0.8310 - val_loss: 0.7009 - val_accuracy: 0.7251\n",
            "Epoch 7/35\n",
            "375/375 [==============================] - 109s 287ms/step - loss: 0.3630 - accuracy: 0.8624 - val_loss: 0.5720 - val_accuracy: 0.7776\n",
            "Epoch 8/35\n",
            "375/375 [==============================] - 110s 289ms/step - loss: 0.3215 - accuracy: 0.8769 - val_loss: 0.4258 - val_accuracy: 0.8327\n",
            "Epoch 9/35\n",
            "375/375 [==============================] - 109s 286ms/step - loss: 0.2922 - accuracy: 0.8897 - val_loss: 0.4461 - val_accuracy: 0.8300\n",
            "Epoch 10/35\n",
            "375/375 [==============================] - 112s 294ms/step - loss: 0.2607 - accuracy: 0.9033 - val_loss: 0.4631 - val_accuracy: 0.8394\n",
            "Epoch 11/35\n",
            "375/375 [==============================] - 109s 288ms/step - loss: 0.2392 - accuracy: 0.9103 - val_loss: 0.4075 - val_accuracy: 0.8483\n",
            "Epoch 12/35\n",
            "375/375 [==============================] - 109s 286ms/step - loss: 0.2239 - accuracy: 0.9161 - val_loss: 0.5116 - val_accuracy: 0.8399\n",
            "Epoch 13/35\n",
            "375/375 [==============================] - 114s 299ms/step - loss: 0.2109 - accuracy: 0.9210 - val_loss: 0.2813 - val_accuracy: 0.8919\n",
            "Epoch 14/35\n",
            "375/375 [==============================] - 111s 293ms/step - loss: 0.1954 - accuracy: 0.9274 - val_loss: 0.2517 - val_accuracy: 0.9116\n",
            "Epoch 15/35\n",
            "375/375 [==============================] - 110s 290ms/step - loss: 0.1840 - accuracy: 0.9326 - val_loss: 0.3257 - val_accuracy: 0.8863\n",
            "Epoch 16/35\n",
            "375/375 [==============================] - 109s 286ms/step - loss: 0.1743 - accuracy: 0.9366 - val_loss: 0.2946 - val_accuracy: 0.8939\n",
            "Epoch 17/35\n",
            "375/375 [==============================] - 106s 279ms/step - loss: 0.1591 - accuracy: 0.9415 - val_loss: 0.3117 - val_accuracy: 0.9045\n",
            "Epoch 18/35\n",
            "375/375 [==============================] - 109s 287ms/step - loss: 0.1554 - accuracy: 0.9435 - val_loss: 0.2787 - val_accuracy: 0.9036\n",
            "Epoch 19/35\n",
            "375/375 [==============================] - 109s 286ms/step - loss: 0.1376 - accuracy: 0.9518 - val_loss: 0.2917 - val_accuracy: 0.9067\n",
            "Epoch 20/35\n",
            "375/375 [==============================] - 111s 293ms/step - loss: 0.1349 - accuracy: 0.9510 - val_loss: 0.2279 - val_accuracy: 0.9228\n",
            "Epoch 21/35\n",
            "375/375 [==============================] - 109s 286ms/step - loss: 0.1267 - accuracy: 0.9552 - val_loss: 0.2439 - val_accuracy: 0.9117\n",
            "Epoch 22/35\n",
            "375/375 [==============================] - 109s 285ms/step - loss: 0.1275 - accuracy: 0.9553 - val_loss: 0.2214 - val_accuracy: 0.9315\n",
            "Epoch 23/35\n",
            "375/375 [==============================] - 111s 291ms/step - loss: 0.1268 - accuracy: 0.9548 - val_loss: 0.2212 - val_accuracy: 0.9238\n",
            "Epoch 24/35\n",
            "375/375 [==============================] - 108s 283ms/step - loss: 0.1174 - accuracy: 0.9599 - val_loss: 0.2112 - val_accuracy: 0.9318\n",
            "Epoch 25/35\n",
            "375/375 [==============================] - 110s 289ms/step - loss: 0.1043 - accuracy: 0.9630 - val_loss: 0.1990 - val_accuracy: 0.9299\n",
            "Epoch 26/35\n",
            "375/375 [==============================] - 110s 289ms/step - loss: 0.1072 - accuracy: 0.9636 - val_loss: 0.2032 - val_accuracy: 0.9340\n",
            "Epoch 27/35\n",
            "375/375 [==============================] - 111s 293ms/step - loss: 0.1104 - accuracy: 0.9630 - val_loss: 0.1989 - val_accuracy: 0.9273\n",
            "Epoch 28/35\n",
            "375/375 [==============================] - 106s 279ms/step - loss: 0.0877 - accuracy: 0.9701 - val_loss: 0.2393 - val_accuracy: 0.9207\n",
            "Epoch 29/35\n",
            "375/375 [==============================] - 111s 292ms/step - loss: 0.1005 - accuracy: 0.9663 - val_loss: 0.1901 - val_accuracy: 0.9395\n",
            "Epoch 30/35\n",
            "375/375 [==============================] - 108s 284ms/step - loss: 0.0859 - accuracy: 0.9709 - val_loss: 0.1879 - val_accuracy: 0.9407\n",
            "Epoch 31/35\n",
            "375/375 [==============================] - 108s 285ms/step - loss: 0.0917 - accuracy: 0.9673 - val_loss: 0.1688 - val_accuracy: 0.9424\n",
            "Epoch 32/35\n",
            "375/375 [==============================] - 112s 294ms/step - loss: 0.0788 - accuracy: 0.9737 - val_loss: 0.1549 - val_accuracy: 0.9495\n",
            "Epoch 33/35\n",
            "375/375 [==============================] - 109s 287ms/step - loss: 0.0747 - accuracy: 0.9748 - val_loss: 0.1810 - val_accuracy: 0.9443\n",
            "Epoch 34/35\n",
            "375/375 [==============================] - 110s 290ms/step - loss: 0.0793 - accuracy: 0.9727 - val_loss: 0.2179 - val_accuracy: 0.9237\n",
            "Epoch 35/35\n",
            "375/375 [==============================] - 107s 281ms/step - loss: 0.0751 - accuracy: 0.9741 - val_loss: 0.1479 - val_accuracy: 0.9510\n"
          ]
        }
      ]
    },
    {
      "cell_type": "code",
      "metadata": {
        "colab": {
          "background_save": true
        },
        "id": "X2BDjKWDg1lI",
        "outputId": "17d0f167-76f0-4565-f8f5-6f0b28277aa5"
      },
      "source": [
        "#-------------------------------------------------------------------------------\n",
        "\n",
        "print(cb_I05_D002.times)\n",
        "final_time = 0\n",
        "for time in cb_I05_D002.times:\n",
        "  final_time += time\n",
        "print('El entrenamiento se demoro: ' +str(final_time)+' segundos')\n",
        "final_time= final_time/60\n",
        "print('El entrenamiento se demoro: ' +str(final_time)+' minutos')\n",
        "print('accuracy => '+ str(max(history_I05_D002.history['accuracy'])))\n",
        "print('loss => '+ str(min(history_I05_D002.history['loss'])))\n",
        "print('val_accuracy => '+ str(max(history_I05_D002.history['val_accuracy'])))\n",
        "print('val_loss => '+ str(min(history_I05_D002.history['val_loss'])))\n",
        "\n",
        "#-------------------------------------------------------------------------------\n",
        "\n",
        "acc = history_I05_D002.history['accuracy']\n",
        "val_acc = history_I05_D002.history['val_accuracy']\n",
        "\n",
        "loss=history_I05_D002.history['loss']\n",
        "val_loss=history_I05_D002.history['val_loss']\n",
        "\n",
        "epochs_range = range(epochs)\n",
        "\n",
        "plt.figure(figsize=(8, 8))\n",
        "plt.subplot(1, 2, 1)\n",
        "plt.plot(epochs_range, acc, label='Training Accuracy')\n",
        "plt.plot(epochs_range, val_acc, label='Validation Accuracy')\n",
        "plt.legend(loc='lower right')\n",
        "plt.title('Training and Validation Accuracy')\n",
        "\n",
        "plt.subplot(1, 2, 2)\n",
        "plt.plot(epochs_range, loss, label='Training Loss')\n",
        "plt.plot(epochs_range, val_loss, label='Validation Loss')\n",
        "plt.legend(loc='upper right')\n",
        "plt.title('Training and Validation Loss')\n",
        "plt.show()"
      ],
      "execution_count": null,
      "outputs": [
        {
          "name": "stdout",
          "output_type": "stream",
          "text": [
            "[111.42460775375366, 110.5170648097992, 111.32269644737244, 111.0714762210846, 111.06713104248047, 109.31058287620544, 109.36478543281555, 109.87550163269043, 108.92664408683777, 111.84570050239563, 109.38100004196167, 108.73528599739075, 113.74478650093079, 111.37468218803406, 110.39085912704468, 108.80286145210266, 106.4035792350769, 109.00954389572144, 108.87745523452759, 111.38198065757751, 108.98643207550049, 108.61410140991211, 110.8178071975708, 107.55095934867859, 109.91566562652588, 109.85419702529907, 111.34949350357056, 106.23554539680481, 111.15232515335083, 108.03695464134216, 108.47818779945374, 111.89864683151245, 109.02360248565674, 110.37763953208923, 106.83435106277466]\n",
            "El entrenamiento se demoro: 3841.9541342258453 segundos\n",
            "El entrenamiento se demoro: 64.03256890376409 minutos\n",
            "accuracy => 0.9748027324676514\n",
            "loss => 0.07471976429224014\n",
            "val_accuracy => 0.9509811997413635\n",
            "val_loss => 0.14791767299175262\n"
          ]
        },
        {
          "data": {
            "image/png": "[encoded data removed]",
            "text/plain": [
              "<Figure size 576x576 with 2 Axes>"
            ]
          },
          "metadata": {},
          "output_type": "display_data"
        }
      ]
    },
    {
      "cell_type": "markdown",
      "metadata": {
        "id": "2J9VKqj-ik_j"
      },
      "source": [
        "## Modelo DS002-I05-D003"
      ]
    },
    {
      "cell_type": "code",
      "metadata": {
        "colab": {
          "base_uri": "https://localhost:8080/"
        },
        "id": "AmLBxHOiik_n",
        "outputId": "d60a06ce-07f4-4417-a720-6a729dc797b9"
      },
      "source": [
        "from tensorflow.keras import regularizers\n",
        "from time import time\n",
        "#-------------------------------------------------------------------------------\n",
        "cb_I05_D003 = TimingCallback()\n",
        "num_classes = 5\n",
        "epochs=20\n",
        " \n",
        "model_I05_D003 = Sequential([\n",
        "  layers.Conv2D(8, 3, padding='same', activation='relu'),\n",
        "  layers.MaxPooling2D(),\n",
        "  layers.Dropout(0.25),\n",
        "  layers.Conv2D(16, 3, padding='same', activation='relu'),\n",
        "  layers.MaxPooling2D(),\n",
        "  layers.Flatten(),\n",
        "  layers.Dropout(0.25),\n",
        "  layers.Dense(32, activation='relu'),\n",
        "  layers.Dense(num_classes)\n",
        "])\n",
        "model_I05_D003.compile(optimizer='adam',\n",
        "              loss=tf.keras.losses.SparseCategoricalCrossentropy(from_logits=True),\n",
        "              metrics=['accuracy'])\n",
        "# model_I05_D003.summary()\n",
        " \n",
        " \n",
        "history_I05_D003 = model_I05_D003.fit(\n",
        "  train_ds,\n",
        "  validation_data=val_ds,\n",
        "  epochs=epochs,\n",
        "  callbacks=[cb_I05_D003]\n",
        ")\n",
        " \n",
        "#-------------------------------------------------------------------------------"
      ],
      "execution_count": 2,
      "outputs": [
        {
          "output_type": "stream",
          "name": "stdout",
          "text": [
            "Epoch 1/20\n",
            "47/47 [==============================] - 6528s 121s/step - loss: 169.7218 - accuracy: 0.2230 - val_loss: 2.0220 - val_accuracy: 0.2530\n",
            "Epoch 2/20\n",
            "47/47 [==============================] - 153s 3s/step - loss: 1.9712 - accuracy: 0.2983 - val_loss: 1.5762 - val_accuracy: 0.3337\n",
            "Epoch 3/20\n",
            "47/47 [==============================] - 151s 3s/step - loss: 1.5602 - accuracy: 0.3281 - val_loss: 1.4837 - val_accuracy: 0.3614\n",
            "Epoch 4/20\n",
            "47/47 [==============================] - 151s 3s/step - loss: 1.4867 - accuracy: 0.3447 - val_loss: 1.4318 - val_accuracy: 0.3717\n",
            "Epoch 5/20\n",
            "47/47 [==============================] - 151s 3s/step - loss: 1.4394 - accuracy: 0.3566 - val_loss: 1.3911 - val_accuracy: 0.3757\n",
            "Epoch 6/20\n",
            "47/47 [==============================] - 150s 3s/step - loss: 1.4029 - accuracy: 0.3604 - val_loss: 1.3781 - val_accuracy: 0.3627\n",
            "Epoch 7/20\n",
            "47/47 [==============================] - 149s 3s/step - loss: 1.3641 - accuracy: 0.3646 - val_loss: 1.3454 - val_accuracy: 0.3704\n",
            "Epoch 8/20\n",
            "47/47 [==============================] - 151s 3s/step - loss: 1.3424 - accuracy: 0.3719 - val_loss: 1.3453 - val_accuracy: 0.3685\n",
            "Epoch 9/20\n",
            "47/47 [==============================] - 151s 3s/step - loss: 1.3253 - accuracy: 0.3812 - val_loss: 1.3254 - val_accuracy: 0.3911\n",
            "Epoch 10/20\n",
            "47/47 [==============================] - 151s 3s/step - loss: 1.3166 - accuracy: 0.3869 - val_loss: 1.3072 - val_accuracy: 0.3995\n",
            "Epoch 11/20\n",
            "47/47 [==============================] - 151s 3s/step - loss: 1.3001 - accuracy: 0.3963 - val_loss: 1.3120 - val_accuracy: 0.3994\n",
            "Epoch 12/20\n",
            "47/47 [==============================] - 151s 3s/step - loss: 1.2904 - accuracy: 0.4083 - val_loss: 1.3266 - val_accuracy: 0.3866\n",
            "Epoch 13/20\n",
            "47/47 [==============================] - 150s 3s/step - loss: 1.2779 - accuracy: 0.4153 - val_loss: 1.3240 - val_accuracy: 0.3890\n",
            "Epoch 14/20\n",
            "47/47 [==============================] - 151s 3s/step - loss: 1.2710 - accuracy: 0.4200 - val_loss: 1.3218 - val_accuracy: 0.3921\n",
            "Epoch 15/20\n",
            "47/47 [==============================] - 151s 3s/step - loss: 1.2624 - accuracy: 0.4229 - val_loss: 1.2953 - val_accuracy: 0.4088\n",
            "Epoch 16/20\n",
            "47/47 [==============================] - 150s 3s/step - loss: 1.2537 - accuracy: 0.4280 - val_loss: 1.3611 - val_accuracy: 0.3907\n",
            "Epoch 17/20\n",
            "47/47 [==============================] - 151s 3s/step - loss: 1.2454 - accuracy: 0.4331 - val_loss: 1.3057 - val_accuracy: 0.4033\n",
            "Epoch 18/20\n",
            "47/47 [==============================] - 151s 3s/step - loss: 1.2407 - accuracy: 0.4333 - val_loss: 1.3766 - val_accuracy: 0.3938\n",
            "Epoch 19/20\n",
            "47/47 [==============================] - 151s 3s/step - loss: 1.2296 - accuracy: 0.4404 - val_loss: 1.2996 - val_accuracy: 0.4095\n",
            "Epoch 20/20\n",
            "47/47 [==============================] - 151s 3s/step - loss: 1.2301 - accuracy: 0.4393 - val_loss: 1.3218 - val_accuracy: 0.4063\n"
          ]
        }
      ]
    },
    {
      "cell_type": "code",
      "metadata": {
        "cellView": "code",
        "colab": {
          "base_uri": "https://localhost:8080/",
          "height": 638
        },
        "id": "OXbAMTgyik_p",
        "outputId": "0782482c-da3f-4ab4-ab47-b844a0ba02a0"
      },
      "source": [
        "#-------------------------------------------------------------------------------\n",
        "\n",
        "print(cb_I05_D003.times)\n",
        "final_time = 0\n",
        "for time in cb_I05_D003.times:\n",
        "  final_time += time\n",
        "print('El entrenamiento se demoro: ' +str(final_time)+' segundos')\n",
        "final_time= final_time/60\n",
        "print('El entrenamiento se demoro: ' +str(final_time)+' minutos')\n",
        "print('accuracy => '+ str(max(history_I05_D003.history['accuracy'])))\n",
        "print('loss => '+ str(min(history_I05_D003.history['loss'])))\n",
        "print('val_accuracy => '+ str(max(history_I05_D003.history['val_accuracy'])))\n",
        "print('val_loss => '+ str(min(history_I05_D003.history['val_loss'])))\n",
        "\n",
        "#-------------------------------------------------------------------------------\n",
        "\n",
        "acc = history_I05_D003.history['accuracy']\n",
        "val_acc = history_I05_D003.history['val_accuracy']\n",
        "\n",
        "loss=history_I05_D003.history['loss']\n",
        "val_loss=history_I05_D003.history['val_loss']\n",
        "\n",
        "epochs_range = range(epochs)\n",
        "\n",
        "plt.figure(figsize=(8, 8))\n",
        "plt.subplot(1, 2, 1)\n",
        "plt.plot(epochs_range, acc, label='Training Accuracy')\n",
        "plt.plot(epochs_range, val_acc, label='Validation Accuracy')\n",
        "plt.legend(loc='lower right')\n",
        "plt.title('Training and Validation Accuracy')\n",
        "\n",
        "plt.subplot(1, 2, 2)\n",
        "plt.plot(epochs_range, loss, label='Training Loss')\n",
        "plt.plot(epochs_range, val_loss, label='Validation Loss')\n",
        "plt.legend(loc='upper right')\n",
        "plt.title('Training and Validation Loss')\n",
        "plt.show()"
      ],
      "execution_count": 3,
      "outputs": [
        {
          "output_type": "stream",
          "name": "stdout",
          "text": [
            "[6527.940470218658, 152.76003885269165, 151.17827892303467, 151.3875868320465, 150.72335624694824, 150.2718150615692, 149.29827642440796, 150.9016523361206, 150.7153835296631, 150.70735216140747, 150.70944333076477, 151.33754205703735, 150.48716807365417, 150.67655634880066, 150.97368574142456, 150.1751937866211, 151.45002102851868, 150.98172211647034, 150.97834372520447, 150.6875295639038]\n",
            "El entrenamiento se demoro: 9394.341416358948 segundos\n",
            "El entrenamiento se demoro: 156.5723569393158 minutos\n",
            "accuracy => 0.4404408931732178\n",
            "loss => 1.2296183109283447\n",
            "val_accuracy => 0.40951982140541077\n",
            "val_loss => 1.2952992916107178\n"
          ]
        },
        {
          "output_type": "display_data",
          "data": {
            "image/png": "[encoded data removed]",
            "text/plain": [
              "<Figure size 576x576 with 2 Axes>"
            ]
          },
          "metadata": {
            "needs_background": "light"
          }
        }
      ]
    },
    {
      "cell_type": "markdown",
      "metadata": {
        "id": "n6jUX_bIMfsV"
      },
      "source": [
        "## Modelo DS002-I05-D004"
      ]
    },
    {
      "cell_type": "code",
      "metadata": {
        "colab": {
          "base_uri": "https://localhost:8080/"
        },
        "id": "L2JI-lZnMfsh",
        "outputId": "6c427203-d12e-4989-8fb0-27b7c32f3022"
      },
      "source": [
        "from tensorflow.keras import regularizers\n",
        "from time import time\n",
        "#-------------------------------------------------------------------------------\n",
        "cb_I05_D004 = TimingCallback()\n",
        "num_classes = 10\n",
        "\n",
        "model_I05_D004 = Sequential([\n",
        "  layers.Conv2D (16, 3, padding='same', activation='relu',kernel_regularizer=regularizers.l2(0.001)),\n",
        "  layers.MaxPooling2D(),\n",
        "  layers.Dropout(0.25),\n",
        "  layers.Conv2D(32, 3, padding='same', activation='relu',kernel_regularizer=regularizers.l2(0.001)),\n",
        "  layers.MaxPooling2D(),\n",
        "  layers.Dropout(0.25),\n",
        "  layers.Conv2D(64, 3, padding='same', activation='relu',kernel_regularizer=regularizers.l2(0.001)),\n",
        "  layers.MaxPooling2D(),\n",
        "  layers.Flatten(),\n",
        "  layers.Dropout(0.25),\n",
        "  layers.Dense(128, activation='relu',kernel_regularizer=regularizers.l2(0.0001)),\n",
        "  layers.Dense(num_classes)\n",
        "\n",
        "])\n",
        "model_I05_D004.compile(optimizer='adam',\n",
        "              loss=tf.keras.losses.SparseCategoricalCrossentropy(from_logits=True),\n",
        "              metrics=['accuracy'])\n",
        "# model_I05_D004.summary()\n",
        "\n",
        "epochs=35\n",
        "history_I05_D004 = model_I05_D004.fit(\n",
        "  train_ds,\n",
        "  validation_data=val_ds,\n",
        "  epochs=epochs,\n",
        "  callbacks=[cb_I05_D004]\n",
        ")\n",
        "\n",
        "#-------------------------------------------------------------------------------"
      ],
      "execution_count": null,
      "outputs": [
        {
          "output_type": "stream",
          "name": "stdout",
          "text": [
            "Epoch 1/35\n",
            "47/47 [==============================] - 181s 3s/step - loss: 125.0498 - accuracy: 0.2596 - val_loss: 2.3702 - val_accuracy: 0.1398\n",
            "Epoch 2/35\n",
            "47/47 [==============================] - 169s 3s/step - loss: 1.6482 - accuracy: 0.3480 - val_loss: 2.1703 - val_accuracy: 0.3244\n",
            "Epoch 3/35\n",
            "47/47 [==============================] - 169s 3s/step - loss: 1.5337 - accuracy: 0.4147 - val_loss: 2.0239 - val_accuracy: 0.3254\n",
            "Epoch 4/35\n",
            "47/47 [==============================] - 170s 3s/step - loss: 1.3826 - accuracy: 0.4677 - val_loss: 1.5608 - val_accuracy: 0.4916\n",
            "Epoch 5/35\n",
            "47/47 [==============================] - 170s 3s/step - loss: 1.2609 - accuracy: 0.5116 - val_loss: 1.3748 - val_accuracy: 0.5078\n",
            "Epoch 6/35\n",
            "47/47 [==============================] - 170s 3s/step - loss: 1.1770 - accuracy: 0.5392 - val_loss: 1.2513 - val_accuracy: 0.5544\n",
            "Epoch 7/35\n",
            "47/47 [==============================] - 171s 3s/step - loss: 1.1207 - accuracy: 0.5588 - val_loss: 1.1706 - val_accuracy: 0.5754\n",
            "Epoch 8/35\n",
            "47/47 [==============================] - 170s 3s/step - loss: 1.0679 - accuracy: 0.5818 - val_loss: 1.1634 - val_accuracy: 0.5816\n",
            "Epoch 9/35\n",
            "47/47 [==============================] - 170s 3s/step - loss: 1.0182 - accuracy: 0.6026 - val_loss: 1.0217 - val_accuracy: 0.6134\n",
            "Epoch 10/35\n",
            "47/47 [==============================] - 170s 3s/step - loss: 0.9839 - accuracy: 0.6199 - val_loss: 0.9824 - val_accuracy: 0.6259\n",
            "Epoch 11/35\n",
            "47/47 [==============================] - 170s 3s/step - loss: 0.9617 - accuracy: 0.6322 - val_loss: 0.9381 - val_accuracy: 0.6393\n",
            "Epoch 12/35\n",
            "47/47 [==============================] - 170s 3s/step - loss: 0.9306 - accuracy: 0.6421 - val_loss: 0.9140 - val_accuracy: 0.6566\n",
            "Epoch 13/35\n",
            "47/47 [==============================] - 170s 3s/step - loss: 0.9122 - accuracy: 0.6522 - val_loss: 0.8830 - val_accuracy: 0.6691\n",
            "Epoch 14/35\n",
            "47/47 [==============================] - 171s 3s/step - loss: 0.8679 - accuracy: 0.6734 - val_loss: 1.1875 - val_accuracy: 0.5807\n",
            "Epoch 15/35\n",
            "47/47 [==============================] - 170s 3s/step - loss: 0.8307 - accuracy: 0.6934 - val_loss: 1.1569 - val_accuracy: 0.6031\n",
            "Epoch 16/35\n",
            "47/47 [==============================] - 170s 3s/step - loss: 0.7911 - accuracy: 0.7143 - val_loss: 1.1606 - val_accuracy: 0.6242\n",
            "Epoch 17/35\n",
            "47/47 [==============================] - 170s 3s/step - loss: 0.7555 - accuracy: 0.7326 - val_loss: 1.2345 - val_accuracy: 0.6255\n",
            "Epoch 18/35\n",
            "47/47 [==============================] - 170s 3s/step - loss: 0.7153 - accuracy: 0.7555 - val_loss: 1.1670 - val_accuracy: 0.6431\n",
            "Epoch 19/35\n",
            "47/47 [==============================] - 170s 3s/step - loss: 0.6845 - accuracy: 0.7704 - val_loss: 1.0343 - val_accuracy: 0.6828\n",
            "Epoch 20/35\n",
            "47/47 [==============================] - 169s 3s/step - loss: 0.6563 - accuracy: 0.7843 - val_loss: 0.9884 - val_accuracy: 0.6890\n",
            "Epoch 21/35\n",
            "47/47 [==============================] - 170s 3s/step - loss: 0.6276 - accuracy: 0.7952 - val_loss: 0.7969 - val_accuracy: 0.7380\n",
            "Epoch 22/35\n",
            "47/47 [==============================] - 170s 3s/step - loss: 0.6044 - accuracy: 0.8073 - val_loss: 0.7775 - val_accuracy: 0.7513\n",
            "Epoch 23/35\n",
            "47/47 [==============================] - 170s 3s/step - loss: 0.5914 - accuracy: 0.8106 - val_loss: 0.6502 - val_accuracy: 0.7951\n",
            "Epoch 24/35\n",
            "47/47 [==============================] - 170s 3s/step - loss: 0.5656 - accuracy: 0.8214 - val_loss: 0.7212 - val_accuracy: 0.7718\n",
            "Epoch 25/35\n",
            "47/47 [==============================] - 169s 3s/step - loss: 0.5514 - accuracy: 0.8259 - val_loss: 0.6662 - val_accuracy: 0.7968\n",
            "Epoch 26/35\n",
            "47/47 [==============================] - 170s 3s/step - loss: 0.5353 - accuracy: 0.8350 - val_loss: 0.6867 - val_accuracy: 0.7937\n",
            "Epoch 27/35\n",
            "47/47 [==============================] - 169s 3s/step - loss: 0.5290 - accuracy: 0.8377 - val_loss: 0.6055 - val_accuracy: 0.8198\n",
            "Epoch 28/35\n",
            "47/47 [==============================] - 168s 3s/step - loss: 0.5204 - accuracy: 0.8416 - val_loss: 0.5792 - val_accuracy: 0.8347\n",
            "Epoch 29/35\n",
            "47/47 [==============================] - 165s 3s/step - loss: 0.5010 - accuracy: 0.8508 - val_loss: 0.6521 - val_accuracy: 0.8112\n",
            "Epoch 30/35\n",
            "47/47 [==============================] - 166s 3s/step - loss: 0.4777 - accuracy: 0.8589 - val_loss: 0.6210 - val_accuracy: 0.8192\n",
            "Epoch 31/35\n",
            "47/47 [==============================] - 168s 3s/step - loss: 0.4685 - accuracy: 0.8639 - val_loss: 0.5740 - val_accuracy: 0.8360\n",
            "Epoch 32/35\n",
            "47/47 [==============================] - 168s 3s/step - loss: 0.4527 - accuracy: 0.8684 - val_loss: 0.5708 - val_accuracy: 0.8365\n",
            "Epoch 33/35\n",
            "47/47 [==============================] - 166s 3s/step - loss: 0.4366 - accuracy: 0.8774 - val_loss: 0.5889 - val_accuracy: 0.8275\n",
            "Epoch 34/35\n",
            "47/47 [==============================] - 167s 3s/step - loss: 0.4248 - accuracy: 0.8830 - val_loss: 0.5637 - val_accuracy: 0.8363\n",
            "Epoch 35/35\n",
            "47/47 [==============================] - 168s 3s/step - loss: 0.4120 - accuracy: 0.8871 - val_loss: 0.5441 - val_accuracy: 0.8428\n"
          ]
        }
      ]
    },
    {
      "cell_type": "code",
      "metadata": {
        "colab": {
          "base_uri": "https://localhost:8080/",
          "height": 638
        },
        "id": "1dihtWEPMfsi",
        "outputId": "4e73944e-ff7d-43c5-8a1f-61f93890d386"
      },
      "source": [
        "#-------------------------------------------------------------------------------\n",
        "\n",
        "print(cb_I05_D004.times)\n",
        "final_time = 0\n",
        "for time in cb_I05_D004.times:\n",
        "  final_time += time\n",
        "print('El entrenamiento se demoro: ' +str(final_time)+' segundos')\n",
        "final_time= final_time/60\n",
        "print('El entrenamiento se demoro: ' +str(final_time)+' minutos')\n",
        "print('accuracy => '+ str(max(history_I05_D004.history['accuracy'])))\n",
        "print('loss => '+ str(min(history_I05_D004.history['loss'])))\n",
        "print('val_accuracy => '+ str(max(history_I05_D004.history['val_accuracy'])))\n",
        "print('val_loss => '+ str(min(history_I05_D004.history['val_loss'])))\n",
        "\n",
        "#-------------------------------------------------------------------------------\n",
        "\n",
        "acc = history_I05_D004.history['accuracy']\n",
        "val_acc = history_I05_D004.history['val_accuracy']\n",
        "\n",
        "loss=history_I05_D004.history['loss']\n",
        "val_loss=history_I05_D004.history['val_loss']\n",
        "\n",
        "epochs_range = range(epochs)\n",
        "\n",
        "plt.figure(figsize=(8, 8))\n",
        "plt.subplot(1, 2, 1)\n",
        "plt.plot(epochs_range, acc, label='Training Accuracy')\n",
        "plt.plot(epochs_range, val_acc, label='Validation Accuracy')\n",
        "plt.legend(loc='lower right')\n",
        "plt.title('Training and Validation Accuracy')\n",
        "\n",
        "plt.subplot(1, 2, 2)\n",
        "plt.plot(epochs_range, loss, label='Training Loss')\n",
        "plt.plot(epochs_range, val_loss, label='Validation Loss')\n",
        "plt.legend(loc='upper right')\n",
        "plt.title('Training and Validation Loss')\n",
        "plt.show()"
      ],
      "execution_count": null,
      "outputs": [
        {
          "output_type": "stream",
          "name": "stdout",
          "text": [
            "[181.21720004081726, 169.18405556678772, 169.36143803596497, 170.18561124801636, 170.4066035747528, 170.09355545043945, 170.70589208602905, 170.11104702949524, 170.0414366722107, 170.2689971923828, 169.90179705619812, 169.74684262275696, 170.12837672233582, 170.79872155189514, 169.8664677143097, 169.78353786468506, 169.68378829956055, 169.51007223129272, 170.21529459953308, 169.26775884628296, 169.72933197021484, 169.84053301811218, 169.9101288318634, 170.1388235092163, 168.80679082870483, 169.54541897773743, 168.97954273223877, 168.2203598022461, 164.9861717224121, 165.60420155525208, 167.61326694488525, 168.41559624671936, 166.13011622428894, 166.7978630065918, 168.13311314582825]\n",
            "El entrenamiento se demoro: 5933.329752922058 segundos\n",
            "El entrenamiento se demoro: 98.88882921536764 minutos\n",
            "accuracy => 0.8871445655822754\n",
            "loss => 0.41195887327194214\n",
            "val_accuracy => 0.842839241027832\n",
            "val_loss => 0.5441314578056335\n"
          ]
        },
        {
          "output_type": "display_data",
          "data": {
            "image/png": "[encoded data removed]",
            "text/plain": [
              "<Figure size 576x576 with 2 Axes>"
            ]
          },
          "metadata": {
            "needs_background": "light"
          }
        }
      ]
    },
    {
      "cell_type": "markdown",
      "metadata": {
        "id": "a_EgwWh0voY6"
      },
      "source": [
        "## Modelo DS002-I05-D005"
      ]
    },
    {
      "cell_type": "code",
      "metadata": {
        "colab": {
          "base_uri": "https://localhost:8080/"
        },
        "id": "gAJFSENYvoY-",
        "outputId": "257cd309-a1d2-430b-c222-ba47097c6373"
      },
      "source": [
        "from tensorflow.keras import regularizers\n",
        "from time import time\n",
        "#-------------------------------------------------------------------------------\n",
        "cb_I05_D005 = TimingCallback()\n",
        "num_classes = 10\n",
        "\n",
        "model_I05_D005 = Sequential([\n",
        "  layers.Conv2D (16, 3, padding='same', activation='relu',kernel_regularizer=regularizers.l2(0.01)),\n",
        "  layers.MaxPooling2D(),\n",
        "  layers.Dropout(0.25),\n",
        "  layers.Conv2D(32, 3, padding='same', activation='relu',kernel_regularizer=regularizers.l2(0.01)),\n",
        "  layers.MaxPooling2D(),\n",
        "  layers.Dropout(0.25),\n",
        "  layers.Conv2D(64, 3, padding='same', activation='relu',kernel_regularizer=regularizers.l2(0.01)),\n",
        "  layers.MaxPooling2D(),\n",
        "  layers.Flatten(),\n",
        "  layers.Dropout(0.25),\n",
        "  layers.Dense(128, activation='relu',kernel_regularizer=regularizers.l2(0.01)),\n",
        "  layers.Dense(num_classes)\n",
        "\n",
        "])\n",
        "model_I05_D005.compile(optimizer='adam',\n",
        "              loss=tf.keras.losses.SparseCategoricalCrossentropy(from_logits=True),\n",
        "              metrics=['accuracy'])\n",
        "# model_I05_D005.summary()\n",
        "\n",
        "epochs=35\n",
        "history_I05_D005 = model_I05_D005.fit(\n",
        "  train_ds,\n",
        "  validation_data=val_ds,\n",
        "  epochs=epochs,\n",
        "  callbacks=[cb_I05_D005]\n",
        ")\n",
        "\n",
        "#-------------------------------------------------------------------------------"
      ],
      "execution_count": 4,
      "outputs": [
        {
          "output_type": "stream",
          "name": "stdout",
          "text": [
            "Epoch 1/35\n",
            "47/47 [==============================] - 177s 3s/step - loss: 250.7495 - accuracy: 0.2510 - val_loss: 6.9280 - val_accuracy: 0.2610\n",
            "Epoch 2/35\n",
            "47/47 [==============================] - 163s 3s/step - loss: 5.2090 - accuracy: 0.4204 - val_loss: 5.5914 - val_accuracy: 0.2779\n",
            "Epoch 3/35\n",
            "47/47 [==============================] - 163s 3s/step - loss: 4.9436 - accuracy: 0.4401 - val_loss: 5.7449 - val_accuracy: 0.2739\n",
            "Epoch 4/35\n",
            "47/47 [==============================] - 164s 3s/step - loss: 4.7506 - accuracy: 0.4554 - val_loss: 5.5831 - val_accuracy: 0.3445\n",
            "Epoch 5/35\n",
            "47/47 [==============================] - 163s 3s/step - loss: 4.5510 - accuracy: 0.4815 - val_loss: 4.8508 - val_accuracy: 0.4660\n",
            "Epoch 6/35\n",
            "47/47 [==============================] - 162s 3s/step - loss: 4.3618 - accuracy: 0.5171 - val_loss: 4.7946 - val_accuracy: 0.4914\n",
            "Epoch 7/35\n",
            "47/47 [==============================] - 163s 3s/step - loss: 4.2117 - accuracy: 0.5383 - val_loss: 4.4178 - val_accuracy: 0.5382\n",
            "Epoch 8/35\n",
            "47/47 [==============================] - 163s 3s/step - loss: 4.0042 - accuracy: 0.5962 - val_loss: 3.8321 - val_accuracy: 0.6496\n",
            "Epoch 9/35\n",
            "47/47 [==============================] - 163s 3s/step - loss: 3.8054 - accuracy: 0.6425 - val_loss: 3.7404 - val_accuracy: 0.6607\n",
            "Epoch 10/35\n",
            "47/47 [==============================] - 163s 3s/step - loss: 3.6663 - accuracy: 0.6634 - val_loss: 3.5952 - val_accuracy: 0.6899\n",
            "Epoch 11/35\n",
            "47/47 [==============================] - 163s 3s/step - loss: 3.5448 - accuracy: 0.6777 - val_loss: 3.5948 - val_accuracy: 0.6697\n",
            "Epoch 12/35\n",
            "47/47 [==============================] - 163s 3s/step - loss: 3.4282 - accuracy: 0.6976 - val_loss: 3.6349 - val_accuracy: 0.6389\n",
            "Epoch 13/35\n",
            "47/47 [==============================] - 163s 3s/step - loss: 3.3541 - accuracy: 0.7001 - val_loss: 3.3907 - val_accuracy: 0.7005\n",
            "Epoch 14/35\n",
            "47/47 [==============================] - 163s 3s/step - loss: 3.2524 - accuracy: 0.7142 - val_loss: 3.2797 - val_accuracy: 0.6969\n",
            "Epoch 15/35\n",
            "47/47 [==============================] - 163s 3s/step - loss: 3.1588 - accuracy: 0.7279 - val_loss: 3.3717 - val_accuracy: 0.6761\n",
            "Epoch 16/35\n",
            "47/47 [==============================] - 162s 3s/step - loss: 3.0734 - accuracy: 0.7413 - val_loss: 3.2501 - val_accuracy: 0.7131\n",
            "Epoch 17/35\n",
            "47/47 [==============================] - 164s 3s/step - loss: 2.9947 - accuracy: 0.7537 - val_loss: 3.1931 - val_accuracy: 0.7152\n",
            "Epoch 18/35\n",
            "47/47 [==============================] - 162s 3s/step - loss: 2.9125 - accuracy: 0.7683 - val_loss: 3.1752 - val_accuracy: 0.7155\n",
            "Epoch 19/35\n",
            "47/47 [==============================] - 163s 3s/step - loss: 2.8331 - accuracy: 0.7801 - val_loss: 3.1112 - val_accuracy: 0.7252\n",
            "Epoch 20/35\n",
            "47/47 [==============================] - 162s 3s/step - loss: 2.7583 - accuracy: 0.7922 - val_loss: 3.0425 - val_accuracy: 0.7238\n",
            "Epoch 21/35\n",
            "47/47 [==============================] - 163s 3s/step - loss: 2.7007 - accuracy: 0.7940 - val_loss: 3.0141 - val_accuracy: 0.7226\n",
            "Epoch 22/35\n",
            "47/47 [==============================] - 162s 3s/step - loss: 2.6254 - accuracy: 0.8061 - val_loss: 2.8514 - val_accuracy: 0.7446\n",
            "Epoch 23/35\n",
            "47/47 [==============================] - 163s 3s/step - loss: 2.5679 - accuracy: 0.8147 - val_loss: 2.8470 - val_accuracy: 0.7362\n",
            "Epoch 24/35\n",
            "47/47 [==============================] - 162s 3s/step - loss: 2.5132 - accuracy: 0.8196 - val_loss: 2.7759 - val_accuracy: 0.7567\n",
            "Epoch 25/35\n",
            "47/47 [==============================] - 162s 3s/step - loss: 2.4534 - accuracy: 0.8322 - val_loss: 2.7765 - val_accuracy: 0.7483\n",
            "Epoch 26/35\n",
            "47/47 [==============================] - 162s 3s/step - loss: 2.3948 - accuracy: 0.8426 - val_loss: 2.6776 - val_accuracy: 0.7517\n",
            "Epoch 27/35\n",
            "47/47 [==============================] - 161s 3s/step - loss: 2.3384 - accuracy: 0.8518 - val_loss: 2.6884 - val_accuracy: 0.7446\n",
            "Epoch 28/35\n",
            "47/47 [==============================] - 163s 3s/step - loss: 2.2894 - accuracy: 0.8555 - val_loss: 2.6127 - val_accuracy: 0.7456\n",
            "Epoch 29/35\n",
            "47/47 [==============================] - 163s 3s/step - loss: 2.2376 - accuracy: 0.8605 - val_loss: 2.5483 - val_accuracy: 0.7524\n",
            "Epoch 30/35\n",
            "47/47 [==============================] - 162s 3s/step - loss: 2.1804 - accuracy: 0.8686 - val_loss: 2.5030 - val_accuracy: 0.7708\n",
            "Epoch 31/35\n",
            "47/47 [==============================] - 164s 3s/step - loss: 2.1391 - accuracy: 0.8728 - val_loss: 2.4718 - val_accuracy: 0.7725\n",
            "Epoch 32/35\n",
            "47/47 [==============================] - 163s 3s/step - loss: 2.0906 - accuracy: 0.8793 - val_loss: 2.4067 - val_accuracy: 0.7734\n",
            "Epoch 33/35\n",
            "47/47 [==============================] - 163s 3s/step - loss: 2.0577 - accuracy: 0.8783 - val_loss: 2.3716 - val_accuracy: 0.7781\n",
            "Epoch 34/35\n",
            "47/47 [==============================] - 164s 3s/step - loss: 2.0087 - accuracy: 0.8848 - val_loss: 2.3574 - val_accuracy: 0.7734\n",
            "Epoch 35/35\n",
            "47/47 [==============================] - 163s 3s/step - loss: 2.0232 - accuracy: 0.8718 - val_loss: 2.4818 - val_accuracy: 0.7320\n"
          ]
        }
      ]
    },
    {
      "cell_type": "code",
      "metadata": {
        "colab": {
          "base_uri": "https://localhost:8080/",
          "height": 638
        },
        "id": "kR2IBwyxvoY_",
        "outputId": "2c280495-8cc6-482d-d61b-d92f4d99f7f6"
      },
      "source": [
        "#-------------------------------------------------------------------------------\n",
        "\n",
        "print(cb_I05_D005.times)\n",
        "final_time = 0\n",
        "for time in cb_I05_D005.times:\n",
        "  final_time += time\n",
        "print('El entrenamiento se demoro: ' +str(final_time)+' segundos')\n",
        "final_time= final_time/60\n",
        "print('El entrenamiento se demoro: ' +str(final_time)+' minutos')\n",
        "print('accuracy => '+ str(max(history_I05_D005.history['accuracy'])))\n",
        "print('loss => '+ str(min(history_I05_D005.history['loss'])))\n",
        "print('val_accuracy => '+ str(max(history_I05_D005.history['val_accuracy'])))\n",
        "print('val_loss => '+ str(min(history_I05_D005.history['val_loss'])))\n",
        "\n",
        "#-------------------------------------------------------------------------------\n",
        "\n",
        "acc = history_I05_D005.history['accuracy']\n",
        "val_acc = history_I05_D005.history['val_accuracy']\n",
        "\n",
        "loss=history_I05_D005.history['loss']\n",
        "val_loss=history_I05_D005.history['val_loss']\n",
        "\n",
        "epochs_range = range(epochs)\n",
        "\n",
        "plt.figure(figsize=(8, 8))\n",
        "plt.subplot(1, 2, 1)\n",
        "plt.plot(epochs_range, acc, label='Training Accuracy')\n",
        "plt.plot(epochs_range, val_acc, label='Validation Accuracy')\n",
        "plt.legend(loc='lower right')\n",
        "plt.title('Training and Validation Accuracy')\n",
        "\n",
        "plt.subplot(1, 2, 2)\n",
        "plt.plot(epochs_range, loss, label='Training Loss')\n",
        "plt.plot(epochs_range, val_loss, label='Validation Loss')\n",
        "plt.legend(loc='upper right')\n",
        "plt.title('Training and Validation Loss')\n",
        "plt.show()"
      ],
      "execution_count": 5,
      "outputs": [
        {
          "output_type": "stream",
          "name": "stdout",
          "text": [
            "[177.37254118919373, 162.742032289505, 163.00099301338196, 163.5455195903778, 162.88470220565796, 162.3145351409912, 162.70312595367432, 163.07572436332703, 163.3756604194641, 162.90606236457825, 162.51674842834473, 162.60181784629822, 162.9744210243225, 163.14324736595154, 162.7376582622528, 162.25665712356567, 163.9492483139038, 162.13351821899414, 162.6633231639862, 161.9224739074707, 162.75559425354004, 162.31893110275269, 163.015230178833, 162.48761701583862, 161.95062065124512, 161.83764386177063, 161.48029041290283, 162.67644453048706, 162.96175408363342, 161.91342687606812, 163.59748125076294, 163.3756639957428, 163.18251419067383, 163.56649923324585, 162.72335767745972]\n",
            "El entrenamiento se demoro: 5710.663079500198 segundos\n",
            "El entrenamiento se demoro: 95.17771799166998 minutos\n",
            "accuracy => 0.8847647309303284\n",
            "loss => 2.008702039718628\n",
            "val_accuracy => 0.7781211137771606\n",
            "val_loss => 2.3573920726776123\n"
          ]
        },
        {
          "output_type": "display_data",
          "data": {
            "image/png": "[encoded data removed]",
            "text/plain": [
              "<Figure size 576x576 with 2 Axes>"
            ]
          },
          "metadata": {
            "needs_background": "light"
          }
        }
      ]
    },
    {
      "cell_type": "markdown",
      "metadata": {
        "id": "8LktvSpFbS9y"
      },
      "source": [
        "## Modelo DS002-I05-D006"
      ]
    },
    {
      "cell_type": "code",
      "metadata": {
        "colab": {
          "base_uri": "https://localhost:8080/"
        },
        "id": "aqS1lv6vbS93",
        "outputId": "71432b17-3082-4ae8-e716-db79e7d16bb3"
      },
      "source": [
        "from tensorflow.keras import regularizers\n",
        "from time import time\n",
        "#-------------------------------------------------------------------------------\n",
        "cb_I05_D006 = TimingCallback()\n",
        "num_classes = 10\n",
        "\n",
        "model_I05_D006 = Sequential([\n",
        "  layers.Conv2D (16, 3, padding='same', activation='relu'),\n",
        "  layers.MaxPooling2D(),\n",
        "  layers.Conv2D(32, 3, padding='same', activation='relu'),\n",
        "  layers.MaxPooling2D(),\n",
        "  layers.Dropout(0.25),\n",
        "  layers.Conv2D(64, 3, padding='same', activation='relu'),\n",
        "  layers.MaxPooling2D(),\n",
        "  layers.Flatten(),\n",
        "  layers.Dropout(0.25),\n",
        "  layers.Dense(128, activation='relu'),\n",
        "  layers.Dense(num_classes)\n",
        "\n",
        "])\n",
        "model_I05_D006.compile(optimizer='adam',\n",
        "              loss=tf.keras.losses.SparseCategoricalCrossentropy(from_logits=True),\n",
        "              metrics=['accuracy'])\n",
        "# model_I05_D006.summary()\n",
        "\n",
        "epochs=35\n",
        "history_I05_D006 = model_I05_D006.fit(\n",
        "  train_ds,\n",
        "  validation_data=val_ds,\n",
        "  epochs=epochs,\n",
        "  callbacks=[cb_I05_D006]\n",
        ")\n",
        "\n",
        "#-------------------------------------------------------------------------------"
      ],
      "execution_count": 6,
      "outputs": [
        {
          "output_type": "stream",
          "name": "stdout",
          "text": [
            "Epoch 1/35\n",
            "47/47 [==============================] - 163s 3s/step - loss: 117.9640 - accuracy: 0.2870 - val_loss: 1.9852 - val_accuracy: 0.1449\n",
            "Epoch 2/35\n",
            "47/47 [==============================] - 162s 3s/step - loss: 1.5077 - accuracy: 0.3825 - val_loss: 1.9439 - val_accuracy: 0.1607\n",
            "Epoch 3/35\n",
            "47/47 [==============================] - 162s 3s/step - loss: 1.3838 - accuracy: 0.4363 - val_loss: 1.8456 - val_accuracy: 0.3011\n",
            "Epoch 4/35\n",
            "47/47 [==============================] - 162s 3s/step - loss: 1.2265 - accuracy: 0.4912 - val_loss: 1.2889 - val_accuracy: 0.5330\n",
            "Epoch 5/35\n",
            "47/47 [==============================] - 162s 3s/step - loss: 0.9719 - accuracy: 0.5932 - val_loss: 1.1667 - val_accuracy: 0.5914\n",
            "Epoch 6/35\n",
            "47/47 [==============================] - 162s 3s/step - loss: 0.8547 - accuracy: 0.6409 - val_loss: 0.9802 - val_accuracy: 0.6573\n",
            "Epoch 7/35\n",
            "47/47 [==============================] - 162s 3s/step - loss: 0.7815 - accuracy: 0.6728 - val_loss: 0.8865 - val_accuracy: 0.6807\n",
            "Epoch 8/35\n",
            "47/47 [==============================] - 161s 3s/step - loss: 0.7196 - accuracy: 0.6982 - val_loss: 0.8291 - val_accuracy: 0.6952\n",
            "Epoch 9/35\n",
            "47/47 [==============================] - 161s 3s/step - loss: 0.6752 - accuracy: 0.7180 - val_loss: 0.7904 - val_accuracy: 0.7021\n",
            "Epoch 10/35\n",
            "47/47 [==============================] - 161s 3s/step - loss: 0.6405 - accuracy: 0.7320 - val_loss: 0.7653 - val_accuracy: 0.7114\n",
            "Epoch 11/35\n",
            "47/47 [==============================] - 162s 3s/step - loss: 0.6137 - accuracy: 0.7434 - val_loss: 0.7127 - val_accuracy: 0.7294\n",
            "Epoch 12/35\n",
            "47/47 [==============================] - 162s 3s/step - loss: 0.5853 - accuracy: 0.7580 - val_loss: 0.7157 - val_accuracy: 0.7239\n",
            "Epoch 13/35\n",
            "47/47 [==============================] - 162s 3s/step - loss: 0.5560 - accuracy: 0.7692 - val_loss: 0.7167 - val_accuracy: 0.7299\n",
            "Epoch 14/35\n",
            "47/47 [==============================] - 162s 3s/step - loss: 0.5460 - accuracy: 0.7721 - val_loss: 0.6440 - val_accuracy: 0.7542\n",
            "Epoch 15/35\n",
            "47/47 [==============================] - 163s 3s/step - loss: 0.5058 - accuracy: 0.7921 - val_loss: 0.6388 - val_accuracy: 0.7654\n",
            "Epoch 16/35\n",
            "47/47 [==============================] - 161s 3s/step - loss: 0.4733 - accuracy: 0.8098 - val_loss: 0.5852 - val_accuracy: 0.7817\n",
            "Epoch 17/35\n",
            "47/47 [==============================] - 162s 3s/step - loss: 0.4443 - accuracy: 0.8271 - val_loss: 0.5525 - val_accuracy: 0.7968\n",
            "Epoch 18/35\n",
            "47/47 [==============================] - 162s 3s/step - loss: 0.4102 - accuracy: 0.8398 - val_loss: 0.4676 - val_accuracy: 0.8328\n",
            "Epoch 19/35\n",
            "47/47 [==============================] - 163s 3s/step - loss: 0.3769 - accuracy: 0.8589 - val_loss: 0.4549 - val_accuracy: 0.8293\n",
            "Epoch 20/35\n",
            "47/47 [==============================] - 163s 3s/step - loss: 0.3859 - accuracy: 0.8549 - val_loss: 0.4184 - val_accuracy: 0.8561\n",
            "Epoch 21/35\n",
            "47/47 [==============================] - 163s 3s/step - loss: 0.3331 - accuracy: 0.8765 - val_loss: 0.4286 - val_accuracy: 0.8450\n",
            "Epoch 22/35\n",
            "47/47 [==============================] - 162s 3s/step - loss: 0.3274 - accuracy: 0.8774 - val_loss: 0.4075 - val_accuracy: 0.8502\n",
            "Epoch 23/35\n",
            "47/47 [==============================] - 163s 3s/step - loss: 0.3011 - accuracy: 0.8897 - val_loss: 0.3723 - val_accuracy: 0.8693\n",
            "Epoch 24/35\n",
            "47/47 [==============================] - 162s 3s/step - loss: 0.2913 - accuracy: 0.8935 - val_loss: 0.3855 - val_accuracy: 0.8546\n",
            "Epoch 25/35\n",
            "47/47 [==============================] - 162s 3s/step - loss: 0.2772 - accuracy: 0.8983 - val_loss: 0.3465 - val_accuracy: 0.8804\n",
            "Epoch 26/35\n",
            "47/47 [==============================] - 162s 3s/step - loss: 0.2607 - accuracy: 0.9027 - val_loss: 0.3172 - val_accuracy: 0.8951\n",
            "Epoch 27/35\n",
            "47/47 [==============================] - 161s 3s/step - loss: 0.2504 - accuracy: 0.9069 - val_loss: 0.3159 - val_accuracy: 0.8913\n",
            "Epoch 28/35\n",
            "47/47 [==============================] - 162s 3s/step - loss: 0.2460 - accuracy: 0.9077 - val_loss: 0.3126 - val_accuracy: 0.8959\n",
            "Epoch 29/35\n",
            "47/47 [==============================] - 162s 3s/step - loss: 0.2398 - accuracy: 0.9126 - val_loss: 0.2919 - val_accuracy: 0.9022\n",
            "Epoch 30/35\n",
            "47/47 [==============================] - 162s 3s/step - loss: 0.2210 - accuracy: 0.9182 - val_loss: 0.3155 - val_accuracy: 0.8959\n",
            "Epoch 31/35\n",
            "47/47 [==============================] - 163s 3s/step - loss: 0.2222 - accuracy: 0.9163 - val_loss: 0.3022 - val_accuracy: 0.8927\n",
            "Epoch 32/35\n",
            "47/47 [==============================] - 163s 3s/step - loss: 0.2093 - accuracy: 0.9223 - val_loss: 0.2748 - val_accuracy: 0.9062\n",
            "Epoch 33/35\n",
            "47/47 [==============================] - 163s 3s/step - loss: 0.2025 - accuracy: 0.9245 - val_loss: 0.2423 - val_accuracy: 0.9146\n",
            "Epoch 34/35\n",
            "47/47 [==============================] - 162s 3s/step - loss: 0.2091 - accuracy: 0.9231 - val_loss: 0.2625 - val_accuracy: 0.9140\n",
            "Epoch 35/35\n",
            "47/47 [==============================] - 162s 3s/step - loss: 0.1898 - accuracy: 0.9295 - val_loss: 0.2608 - val_accuracy: 0.9118\n"
          ]
        }
      ]
    },
    {
      "cell_type": "code",
      "metadata": {
        "colab": {
          "base_uri": "https://localhost:8080/",
          "height": 638
        },
        "id": "bTGjPLKXbS94",
        "outputId": "c1f26aa7-1be2-445b-e656-4bc7f5b1c5da"
      },
      "source": [
        "#-------------------------------------------------------------------------------\n",
        "\n",
        "print(cb_I05_D006.times)\n",
        "final_time = 0\n",
        "for time in cb_I05_D006.times:\n",
        "  final_time += time\n",
        "print('El entrenamiento se demoro: ' +str(final_time)+' segundos')\n",
        "final_time= final_time/60\n",
        "print('El entrenamiento se demoro: ' +str(final_time)+' minutos')\n",
        "print('accuracy => '+ str(max(history_I05_D006.history['accuracy'])))\n",
        "print('loss => '+ str(min(history_I05_D006.history['loss'])))\n",
        "print('val_accuracy => '+ str(max(history_I05_D006.history['val_accuracy'])))\n",
        "print('val_loss => '+ str(min(history_I05_D006.history['val_loss'])))\n",
        "\n",
        "#-------------------------------------------------------------------------------\n",
        "\n",
        "acc = history_I05_D006.history['accuracy']\n",
        "val_acc = history_I05_D006.history['val_accuracy']\n",
        "\n",
        "loss=history_I05_D006.history['loss']\n",
        "val_loss=history_I05_D006.history['val_loss']\n",
        "\n",
        "epochs_range = range(epochs)\n",
        "\n",
        "plt.figure(figsize=(8, 8))\n",
        "plt.subplot(1, 2, 1)\n",
        "plt.plot(epochs_range, acc, label='Training Accuracy')\n",
        "plt.plot(epochs_range, val_acc, label='Validation Accuracy')\n",
        "plt.legend(loc='lower right')\n",
        "plt.title('Training and Validation Accuracy')\n",
        "\n",
        "plt.subplot(1, 2, 2)\n",
        "plt.plot(epochs_range, loss, label='Training Loss')\n",
        "plt.plot(epochs_range, val_loss, label='Validation Loss')\n",
        "plt.legend(loc='upper right')\n",
        "plt.title('Training and Validation Loss')\n",
        "plt.show()"
      ],
      "execution_count": 7,
      "outputs": [
        {
          "output_type": "stream",
          "name": "stdout",
          "text": [
            "[162.81974124908447, 161.7706437110901, 161.8003273010254, 161.55961179733276, 161.6704170703888, 162.30021405220032, 162.32177567481995, 161.4924030303955, 161.15044498443604, 160.92030024528503, 162.05936551094055, 161.61473202705383, 161.65578770637512, 162.37046790122986, 162.6509346961975, 161.41740584373474, 162.35532450675964, 162.43631887435913, 162.99636387825012, 162.6713399887085, 162.77275443077087, 162.44505262374878, 163.0111575126648, 162.04950785636902, 162.0911316871643, 161.69695854187012, 161.09946584701538, 162.2241587638855, 161.87256693840027, 162.38505339622498, 162.63964366912842, 162.93534517288208, 162.8738191127777, 162.20570945739746, 162.20603561401367]\n",
            "El entrenamiento se demoro: 5674.542280673981 segundos\n",
            "El entrenamiento se demoro: 94.57570467789968 minutos\n",
            "accuracy => 0.9295227527618408\n",
            "loss => 0.18977375328540802\n",
            "val_accuracy => 0.91457200050354\n",
            "val_loss => 0.242278590798378\n"
          ]
        },
        {
          "output_type": "display_data",
          "data": {
            "image/png": "[encoded data removed]",
            "text/plain": [
              "<Figure size 576x576 with 2 Axes>"
            ]
          },
          "metadata": {
            "needs_background": "light"
          }
        }
      ]
    },
    {
      "cell_type": "markdown",
      "metadata": {
        "id": "xNKBIFakbrOa"
      },
      "source": [
        "## Modelo DS002-I05-D007"
      ]
    },
    {
      "cell_type": "code",
      "metadata": {
        "colab": {
          "base_uri": "https://localhost:8080/"
        },
        "id": "j4FstmHfbrOb",
        "outputId": "37a849b4-ea2a-40fe-c8bd-91c494af164a"
      },
      "source": [
        "from tensorflow.keras import regularizers\n",
        "from time import time\n",
        "#-------------------------------------------------------------------------------\n",
        "cb_I05_D007 = TimingCallback()\n",
        "num_classes = 10\n",
        "\n",
        "model_I05_D007 = Sequential([\n",
        "  layers.Conv2D (16, 3, padding='same', activation='relu',kernel_regularizer=regularizers.l2(0.01)),\n",
        "  layers.MaxPooling2D(),\n",
        "  layers.Conv2D(32, 3, padding='same', activation='relu',kernel_regularizer=regularizers.l2(0.01)),\n",
        "  layers.MaxPooling2D(),\n",
        "  layers.Dropout(0.25),\n",
        "  layers.Conv2D(64, 3, padding='same', activation='relu',kernel_regularizer=regularizers.l2(0.01)),\n",
        "  layers.MaxPooling2D(),\n",
        "  layers.Flatten(),\n",
        "  layers.Dropout(0.25),\n",
        "  layers.Dense(128, activation='relu',kernel_regularizer=regularizers.l2(0.01)),\n",
        "  layers.Dense(num_classes)\n",
        "\n",
        "])\n",
        "model_I05_D007.compile(optimizer='adam',\n",
        "              loss=tf.keras.losses.SparseCategoricalCrossentropy(from_logits=True),\n",
        "              metrics=['accuracy'])\n",
        "# model_I05_D007.summary()\n",
        "\n",
        "epochs=35\n",
        "history_I05_D007 = model_I05_D007.fit(\n",
        "  train_ds,\n",
        "  validation_data=val_ds,\n",
        "  epochs=epochs,\n",
        "  callbacks=[cb_I05_D007]\n",
        ")\n",
        "\n",
        "#-------------------------------------------------------------------------------"
      ],
      "execution_count": 8,
      "outputs": [
        {
          "output_type": "stream",
          "name": "stdout",
          "text": [
            "Epoch 1/35\n",
            "47/47 [==============================] - 164s 3s/step - loss: 134.8960 - accuracy: 0.3091 - val_loss: 5.6322 - val_accuracy: 0.3213\n",
            "Epoch 2/35\n",
            "47/47 [==============================] - 163s 3s/step - loss: 4.7271 - accuracy: 0.4622 - val_loss: 5.2756 - val_accuracy: 0.3117\n",
            "Epoch 3/35\n",
            "47/47 [==============================] - 163s 3s/step - loss: 4.3219 - accuracy: 0.5392 - val_loss: 4.7605 - val_accuracy: 0.4544\n",
            "Epoch 4/35\n",
            "47/47 [==============================] - 163s 3s/step - loss: 3.9439 - accuracy: 0.6277 - val_loss: 4.1537 - val_accuracy: 0.6168\n",
            "Epoch 5/35\n",
            "47/47 [==============================] - 162s 3s/step - loss: 3.6603 - accuracy: 0.6903 - val_loss: 3.7126 - val_accuracy: 0.6965\n",
            "Epoch 6/35\n",
            "47/47 [==============================] - 162s 3s/step - loss: 3.4534 - accuracy: 0.7316 - val_loss: 3.4433 - val_accuracy: 0.7380\n",
            "Epoch 7/35\n",
            "47/47 [==============================] - 163s 3s/step - loss: 3.2822 - accuracy: 0.7645 - val_loss: 3.2195 - val_accuracy: 0.7778\n",
            "Epoch 8/35\n",
            "47/47 [==============================] - 163s 3s/step - loss: 3.1309 - accuracy: 0.7916 - val_loss: 3.1681 - val_accuracy: 0.7596\n",
            "Epoch 9/35\n",
            "47/47 [==============================] - 162s 3s/step - loss: 2.9759 - accuracy: 0.8290 - val_loss: 2.9121 - val_accuracy: 0.8434\n",
            "Epoch 10/35\n",
            "47/47 [==============================] - 163s 3s/step - loss: 2.8189 - accuracy: 0.8632 - val_loss: 2.8027 - val_accuracy: 0.8543\n",
            "Epoch 11/35\n",
            "47/47 [==============================] - 163s 3s/step - loss: 2.6988 - accuracy: 0.8817 - val_loss: 2.6978 - val_accuracy: 0.8702\n",
            "Epoch 12/35\n",
            "47/47 [==============================] - 163s 3s/step - loss: 2.5908 - accuracy: 0.8959 - val_loss: 2.5703 - val_accuracy: 0.8925\n",
            "Epoch 13/35\n",
            "47/47 [==============================] - 162s 3s/step - loss: 2.5041 - accuracy: 0.9016 - val_loss: 2.4757 - val_accuracy: 0.8995\n",
            "Epoch 14/35\n",
            "47/47 [==============================] - 162s 3s/step - loss: 2.4214 - accuracy: 0.9084 - val_loss: 2.4207 - val_accuracy: 0.8977\n",
            "Epoch 15/35\n",
            "47/47 [==============================] - 162s 3s/step - loss: 2.3473 - accuracy: 0.9117 - val_loss: 2.3646 - val_accuracy: 0.8944\n",
            "Epoch 16/35\n",
            "47/47 [==============================] - 162s 3s/step - loss: 2.2761 - accuracy: 0.9154 - val_loss: 2.2531 - val_accuracy: 0.9143\n",
            "Epoch 17/35\n",
            "47/47 [==============================] - 163s 3s/step - loss: 2.2045 - accuracy: 0.9218 - val_loss: 2.2078 - val_accuracy: 0.9120\n",
            "Epoch 18/35\n",
            "47/47 [==============================] - 163s 3s/step - loss: 2.1437 - accuracy: 0.9239 - val_loss: 2.1588 - val_accuracy: 0.9078\n",
            "Epoch 19/35\n",
            "47/47 [==============================] - 163s 3s/step - loss: 2.0818 - accuracy: 0.9275 - val_loss: 2.0932 - val_accuracy: 0.9141\n",
            "Epoch 20/35\n",
            "47/47 [==============================] - 163s 3s/step - loss: 2.0395 - accuracy: 0.9255 - val_loss: 2.0896 - val_accuracy: 0.8998\n",
            "Epoch 21/35\n",
            "47/47 [==============================] - 162s 3s/step - loss: 1.9787 - accuracy: 0.9309 - val_loss: 1.9906 - val_accuracy: 0.9170\n",
            "Epoch 22/35\n",
            "47/47 [==============================] - 163s 3s/step - loss: 1.9276 - accuracy: 0.9302 - val_loss: 1.9545 - val_accuracy: 0.9142\n",
            "Epoch 23/35\n",
            "47/47 [==============================] - 162s 3s/step - loss: 1.8741 - accuracy: 0.9348 - val_loss: 1.8722 - val_accuracy: 0.9300\n",
            "Epoch 24/35\n",
            "47/47 [==============================] - 162s 3s/step - loss: 1.8253 - accuracy: 0.9362 - val_loss: 1.8311 - val_accuracy: 0.9278\n",
            "Epoch 25/35\n",
            "47/47 [==============================] - 163s 3s/step - loss: 1.7838 - accuracy: 0.9362 - val_loss: 1.8216 - val_accuracy: 0.9191\n",
            "Epoch 26/35\n",
            "47/47 [==============================] - 163s 3s/step - loss: 1.7488 - accuracy: 0.9367 - val_loss: 1.7626 - val_accuracy: 0.9235\n",
            "Epoch 27/35\n",
            "47/47 [==============================] - 163s 3s/step - loss: 1.6851 - accuracy: 0.9425 - val_loss: 1.6948 - val_accuracy: 0.9334\n",
            "Epoch 28/35\n",
            "47/47 [==============================] - 164s 3s/step - loss: 1.6356 - accuracy: 0.9462 - val_loss: 1.6827 - val_accuracy: 0.9208\n",
            "Epoch 29/35\n",
            "47/47 [==============================] - 164s 3s/step - loss: 1.6055 - accuracy: 0.9436 - val_loss: 1.6049 - val_accuracy: 0.9375\n",
            "Epoch 30/35\n",
            "47/47 [==============================] - 163s 3s/step - loss: 1.5543 - accuracy: 0.9487 - val_loss: 1.5935 - val_accuracy: 0.9289\n",
            "Epoch 31/35\n",
            "47/47 [==============================] - 163s 3s/step - loss: 1.5252 - accuracy: 0.9453 - val_loss: 1.6305 - val_accuracy: 0.9086\n",
            "Epoch 32/35\n",
            "47/47 [==============================] - 163s 3s/step - loss: 1.5117 - accuracy: 0.9427 - val_loss: 1.5251 - val_accuracy: 0.9345\n",
            "Epoch 33/35\n",
            "47/47 [==============================] - 163s 3s/step - loss: 1.4688 - accuracy: 0.9448 - val_loss: 1.4743 - val_accuracy: 0.9414\n",
            "Epoch 34/35\n",
            "47/47 [==============================] - 164s 3s/step - loss: 1.4189 - accuracy: 0.9508 - val_loss: 1.4460 - val_accuracy: 0.9355\n",
            "Epoch 35/35\n",
            "47/47 [==============================] - 163s 3s/step - loss: 1.3848 - accuracy: 0.9525 - val_loss: 1.4058 - val_accuracy: 0.9444\n"
          ]
        }
      ]
    },
    {
      "cell_type": "code",
      "metadata": {
        "colab": {
          "base_uri": "https://localhost:8080/",
          "height": 638
        },
        "id": "TcAAJpvobrOd",
        "outputId": "df8191ef-449f-47dd-f2b3-2d39f373ebf7"
      },
      "source": [
        "#-------------------------------------------------------------------------------\n",
        "\n",
        "print(cb_I05_D007.times)\n",
        "final_time = 0\n",
        "for time in cb_I05_D007.times:\n",
        "  final_time += time\n",
        "print('El entrenamiento se demoro: ' +str(final_time)+' segundos')\n",
        "final_time= final_time/60\n",
        "print('El entrenamiento se demoro: ' +str(final_time)+' minutos')\n",
        "print('accuracy => '+ str(max(history_I05_D007.history['accuracy'])))\n",
        "print('loss => '+ str(min(history_I05_D007.history['loss'])))\n",
        "print('val_accuracy => '+ str(max(history_I05_D007.history['val_accuracy'])))\n",
        "print('val_loss => '+ str(min(history_I05_D007.history['val_loss'])))\n",
        "\n",
        "#-------------------------------------------------------------------------------\n",
        "\n",
        "acc = history_I05_D007.history['accuracy']\n",
        "val_acc = history_I05_D007.history['val_accuracy']\n",
        "\n",
        "loss=history_I05_D007.history['loss']\n",
        "val_loss=history_I05_D007.history['val_loss']\n",
        "\n",
        "epochs_range = range(epochs)\n",
        "\n",
        "plt.figure(figsize=(8, 8))\n",
        "plt.subplot(1, 2, 1)\n",
        "plt.plot(epochs_range, acc, label='Training Accuracy')\n",
        "plt.plot(epochs_range, val_acc, label='Validation Accuracy')\n",
        "plt.legend(loc='lower right')\n",
        "plt.title('Training and Validation Accuracy')\n",
        "\n",
        "plt.subplot(1, 2, 2)\n",
        "plt.plot(epochs_range, loss, label='Training Loss')\n",
        "plt.plot(epochs_range, val_loss, label='Validation Loss')\n",
        "plt.legend(loc='upper right')\n",
        "plt.title('Training and Validation Loss')\n",
        "plt.show()"
      ],
      "execution_count": 9,
      "outputs": [
        {
          "output_type": "stream",
          "name": "stdout",
          "text": [
            "[163.89581561088562, 163.14773654937744, 162.66931986808777, 163.18883872032166, 162.46355319023132, 162.29669094085693, 163.1202096939087, 163.26219749450684, 162.3993546962738, 162.7781319618225, 162.74253702163696, 162.88869285583496, 161.70095872879028, 162.06322979927063, 162.12427282333374, 162.34456706047058, 162.58711504936218, 162.72146487236023, 162.82353806495667, 163.39104008674622, 162.21119499206543, 162.86176109313965, 162.1891224384308, 162.3790955543518, 163.30017066001892, 163.22099614143372, 163.18350338935852, 163.5754952430725, 163.83846926689148, 162.85466980934143, 163.39926767349243, 163.25919604301453, 163.4593391418457, 163.8618347644806, 163.33647656440735]\n",
            "El entrenamiento se demoro: 5701.53985786438 segundos\n",
            "El entrenamiento se demoro: 95.02566429773967 minutos\n",
            "accuracy => 0.9525280594825745\n",
            "loss => 1.3847934007644653\n",
            "val_accuracy => 0.9443841576576233\n",
            "val_loss => 1.4058465957641602\n"
          ]
        },
        {
          "output_type": "display_data",
          "data": {
            "image/png": "[encoded data removed]",
            "text/plain": [
              "<Figure size 576x576 with 2 Axes>"
            ]
          },
          "metadata": {
            "needs_background": "light"
          }
        }
      ]
    },
    {
      "cell_type": "markdown",
      "metadata": {
        "id": "SdqXgNlTbSIZ"
      },
      "source": [
        "## Modelo DS002-I05-D007 try02"
      ]
    },
    {
      "cell_type": "code",
      "metadata": {
        "colab": {
          "base_uri": "https://localhost:8080/"
        },
        "id": "tq2ejOeebSIc",
        "outputId": "288d5245-8f1c-4fa2-d08f-9b861ff6195b"
      },
      "source": [
        "from tensorflow.keras import regularizers\n",
        "from time import time\n",
        "#-------------------------------------------------------------------------------\n",
        "cb_I05_D007 = TimingCallback()\n",
        "num_classes = 10\n",
        "\n",
        "model_I05_D007 = Sequential([\n",
        "  layers.Conv2D (16, 3, padding='same', activation='relu',kernel_regularizer=regularizers.l2(0.01)),\n",
        "  layers.MaxPooling2D(),\n",
        "  layers.Conv2D(32, 3, padding='same', activation='relu',kernel_regularizer=regularizers.l2(0.01)),\n",
        "  layers.MaxPooling2D(),\n",
        "  layers.Dropout(0.25),\n",
        "  layers.Conv2D(64, 3, padding='same', activation='relu',kernel_regularizer=regularizers.l2(0.01)),\n",
        "  layers.MaxPooling2D(),\n",
        "  layers.Flatten(),\n",
        "  layers.Dropout(0.25),\n",
        "  layers.Dense(128, activation='relu',kernel_regularizer=regularizers.l2(0.01)),\n",
        "  layers.Dense(num_classes)\n",
        "\n",
        "])\n",
        "model_I05_D007.compile(optimizer='adam',\n",
        "              loss=tf.keras.losses.SparseCategoricalCrossentropy(from_logits=True),\n",
        "              metrics=['accuracy'])\n",
        "# model_I05_D007.summary()\n",
        "\n",
        "epochs=35\n",
        "history_I05_D007 = model_I05_D007.fit(\n",
        "  train_ds,\n",
        "  validation_data=val_ds,\n",
        "  epochs=epochs,\n",
        "  callbacks=[cb_I05_D007]\n",
        ")\n",
        "\n",
        "#-------------------------------------------------------------------------------"
      ],
      "execution_count": null,
      "outputs": [
        {
          "output_type": "stream",
          "name": "stdout",
          "text": [
            "Epoch 1/35\n",
            "1497/1497 [==============================] - ETA: 0s - loss: 5.6406 - accuracy: 0.6374"
          ]
        }
      ]
    },
    {
      "cell_type": "code",
      "metadata": {
        "id": "nsejyBr5bSId"
      },
      "source": [
        "#-------------------------------------------------------------------------------\n",
        "\n",
        "print(cb_I05_D007.times)\n",
        "final_time = 0\n",
        "for time in cb_I05_D007.times:\n",
        "  final_time += time\n",
        "print('El entrenamiento se demoro: ' +str(final_time)+' segundos')\n",
        "final_time= final_time/60\n",
        "print('El entrenamiento se demoro: ' +str(final_time)+' minutos')\n",
        "print('accuracy => '+ str(max(history_I05_D007.history['accuracy'])))\n",
        "print('loss => '+ str(min(history_I05_D007.history['loss'])))\n",
        "print('val_accuracy => '+ str(max(history_I05_D007.history['val_accuracy'])))\n",
        "print('val_loss => '+ str(min(history_I05_D007.history['val_loss'])))\n",
        "\n",
        "#-------------------------------------------------------------------------------\n",
        "\n",
        "acc = history_I05_D007.history['accuracy']\n",
        "val_acc = history_I05_D007.history['val_accuracy']\n",
        "\n",
        "loss=history_I05_D007.history['loss']\n",
        "val_loss=history_I05_D007.history['val_loss']\n",
        "\n",
        "epochs_range = range(epochs)\n",
        "\n",
        "plt.figure(figsize=(8, 8))\n",
        "plt.subplot(1, 2, 1)\n",
        "plt.plot(epochs_range, acc, label='Training Accuracy')\n",
        "plt.plot(epochs_range, val_acc, label='Validation Accuracy')\n",
        "plt.legend(loc='lower right')\n",
        "plt.title('Training and Validation Accuracy')\n",
        "\n",
        "plt.subplot(1, 2, 2)\n",
        "plt.plot(epochs_range, loss, label='Training Loss')\n",
        "plt.plot(epochs_range, val_loss, label='Validation Loss')\n",
        "plt.legend(loc='upper right')\n",
        "plt.title('Training and Validation Loss')\n",
        "plt.show()"
      ],
      "execution_count": null,
      "outputs": []
    }
  ]
}